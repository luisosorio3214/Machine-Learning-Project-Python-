{
 "cells": [
  {
   "cell_type": "markdown",
   "id": "3efe3a23-acde-4cad-9f96-77f826626c79",
   "metadata": {},
   "source": [
    "## Credit Card Fraud Detection"
   ]
  },
  {
   "cell_type": "markdown",
   "id": "46bfa650-32bc-4459-8839-5f9bbe841742",
   "metadata": {},
   "source": [
    "### Goal:\n",
    "Try to detect whether credit card transaction is fraudalent or not based on certain predictors.\n"
   ]
  },
  {
   "cell_type": "markdown",
   "id": "e87f9339-85b4-4fec-b18e-bf0032b2aec1",
   "metadata": {},
   "source": [
    "### Attribute Information:\n",
    "\n",
    "distance_from_home - the distance from home where the transaction happened.\n",
    "\n",
    "distance_from_last_transaction - the distance from last transaction happened.\n",
    "\n",
    "ratio_to_median_purchase_price - Ratio of purchased price transaction to median purchase price.\n",
    "\n",
    "repeat_retailer - Is the transaction happened from same retailer.\n",
    "\n",
    "used_chip - Is the transaction through chip (credit card).\n",
    "\n",
    "used_pin_number - Is the transaction happened by using PIN number.\n",
    "\n",
    "online_order - Is the transaction an online order.\n",
    "\n",
    "fraud - Is the transaction fraudulent."
   ]
  },
  {
   "cell_type": "code",
   "execution_count": 3,
   "id": "d31c26f0-e3be-4e58-b9cc-f1d8bb9e507a",
   "metadata": {
    "tags": []
   },
   "outputs": [
    {
     "name": "stderr",
     "output_type": "stream",
     "text": [
      "<frozen importlib._bootstrap>:228: RuntimeWarning: scipy._lib.messagestream.MessageStream size changed, may indicate binary incompatibility. Expected 56 from C header, got 64 from PyObject\n"
     ]
    }
   ],
   "source": [
    "# import essential libraries \n",
    "import pandas as pd\n",
    "import numpy as np\n",
    "import matplotlib.pyplot as plt\n",
    "import seaborn as sns\n",
    "%matplotlib inline"
   ]
  },
  {
   "cell_type": "code",
   "execution_count": 4,
   "id": "61818b2f-dc0d-49cb-a89c-2bafe74b6e15",
   "metadata": {
    "tags": []
   },
   "outputs": [
    {
     "data": {
      "text/html": [
       "<div>\n",
       "<style scoped>\n",
       "    .dataframe tbody tr th:only-of-type {\n",
       "        vertical-align: middle;\n",
       "    }\n",
       "\n",
       "    .dataframe tbody tr th {\n",
       "        vertical-align: top;\n",
       "    }\n",
       "\n",
       "    .dataframe thead th {\n",
       "        text-align: right;\n",
       "    }\n",
       "</style>\n",
       "<table border=\"1\" class=\"dataframe\">\n",
       "  <thead>\n",
       "    <tr style=\"text-align: right;\">\n",
       "      <th></th>\n",
       "      <th>distance_from_home</th>\n",
       "      <th>distance_from_last_transaction</th>\n",
       "      <th>ratio_to_median_purchase_price</th>\n",
       "      <th>repeat_retailer</th>\n",
       "      <th>used_chip</th>\n",
       "      <th>used_pin_number</th>\n",
       "      <th>online_order</th>\n",
       "      <th>fraud</th>\n",
       "    </tr>\n",
       "  </thead>\n",
       "  <tbody>\n",
       "    <tr>\n",
       "      <th>0</th>\n",
       "      <td>57.877857</td>\n",
       "      <td>0.311140</td>\n",
       "      <td>1.945940</td>\n",
       "      <td>1.0</td>\n",
       "      <td>1.0</td>\n",
       "      <td>0.0</td>\n",
       "      <td>0.0</td>\n",
       "      <td>0.0</td>\n",
       "    </tr>\n",
       "    <tr>\n",
       "      <th>1</th>\n",
       "      <td>10.829943</td>\n",
       "      <td>0.175592</td>\n",
       "      <td>1.294219</td>\n",
       "      <td>1.0</td>\n",
       "      <td>0.0</td>\n",
       "      <td>0.0</td>\n",
       "      <td>0.0</td>\n",
       "      <td>0.0</td>\n",
       "    </tr>\n",
       "    <tr>\n",
       "      <th>2</th>\n",
       "      <td>5.091079</td>\n",
       "      <td>0.805153</td>\n",
       "      <td>0.427715</td>\n",
       "      <td>1.0</td>\n",
       "      <td>0.0</td>\n",
       "      <td>0.0</td>\n",
       "      <td>1.0</td>\n",
       "      <td>0.0</td>\n",
       "    </tr>\n",
       "    <tr>\n",
       "      <th>3</th>\n",
       "      <td>2.247564</td>\n",
       "      <td>5.600044</td>\n",
       "      <td>0.362663</td>\n",
       "      <td>1.0</td>\n",
       "      <td>1.0</td>\n",
       "      <td>0.0</td>\n",
       "      <td>1.0</td>\n",
       "      <td>0.0</td>\n",
       "    </tr>\n",
       "    <tr>\n",
       "      <th>4</th>\n",
       "      <td>44.190936</td>\n",
       "      <td>0.566486</td>\n",
       "      <td>2.222767</td>\n",
       "      <td>1.0</td>\n",
       "      <td>1.0</td>\n",
       "      <td>0.0</td>\n",
       "      <td>1.0</td>\n",
       "      <td>0.0</td>\n",
       "    </tr>\n",
       "  </tbody>\n",
       "</table>\n",
       "</div>"
      ],
      "text/plain": [
       "   distance_from_home  distance_from_last_transaction  \\\n",
       "0           57.877857                        0.311140   \n",
       "1           10.829943                        0.175592   \n",
       "2            5.091079                        0.805153   \n",
       "3            2.247564                        5.600044   \n",
       "4           44.190936                        0.566486   \n",
       "\n",
       "   ratio_to_median_purchase_price  repeat_retailer  used_chip  \\\n",
       "0                        1.945940              1.0        1.0   \n",
       "1                        1.294219              1.0        0.0   \n",
       "2                        0.427715              1.0        0.0   \n",
       "3                        0.362663              1.0        1.0   \n",
       "4                        2.222767              1.0        1.0   \n",
       "\n",
       "   used_pin_number  online_order  fraud  \n",
       "0              0.0           0.0    0.0  \n",
       "1              0.0           0.0    0.0  \n",
       "2              0.0           1.0    0.0  \n",
       "3              0.0           1.0    0.0  \n",
       "4              0.0           1.0    0.0  "
      ]
     },
     "execution_count": 4,
     "metadata": {},
     "output_type": "execute_result"
    }
   ],
   "source": [
    "# load the data\n",
    "card = pd.read_csv('card_transdata.csv')\n",
    "card.head()"
   ]
  },
  {
   "cell_type": "code",
   "execution_count": 5,
   "id": "466f0fb7-5772-449a-84b8-9a2d00774ef7",
   "metadata": {
    "tags": []
   },
   "outputs": [
    {
     "data": {
      "text/plain": [
       "(1000000, 8)"
      ]
     },
     "execution_count": 5,
     "metadata": {},
     "output_type": "execute_result"
    }
   ],
   "source": [
    "# data dimensions\n",
    "card.shape"
   ]
  },
  {
   "cell_type": "markdown",
   "id": "045e56f8-5cac-4f04-8222-88c01f1769b1",
   "metadata": {},
   "source": [
    "We have a total of 1000000 observations and 8 columns."
   ]
  },
  {
   "cell_type": "code",
   "execution_count": 6,
   "id": "3261d73c-7759-4ebb-9fd0-3b48ae177119",
   "metadata": {
    "tags": []
   },
   "outputs": [
    {
     "data": {
      "text/plain": [
       "Index(['distance_from_home', 'distance_from_last_transaction',\n",
       "       'ratio_to_median_purchase_price', 'repeat_retailer', 'used_chip',\n",
       "       'used_pin_number', 'online_order', 'fraud'],\n",
       "      dtype='object')"
      ]
     },
     "execution_count": 6,
     "metadata": {},
     "output_type": "execute_result"
    }
   ],
   "source": [
    "# column names\n",
    "card.columns"
   ]
  },
  {
   "cell_type": "code",
   "execution_count": 7,
   "id": "327745b6-5dc9-440c-957f-af90d5ba3369",
   "metadata": {
    "tags": []
   },
   "outputs": [
    {
     "name": "stdout",
     "output_type": "stream",
     "text": [
      "<class 'pandas.core.frame.DataFrame'>\n",
      "RangeIndex: 1000000 entries, 0 to 999999\n",
      "Data columns (total 8 columns):\n",
      " #   Column                          Non-Null Count    Dtype  \n",
      "---  ------                          --------------    -----  \n",
      " 0   distance_from_home              1000000 non-null  float64\n",
      " 1   distance_from_last_transaction  1000000 non-null  float64\n",
      " 2   ratio_to_median_purchase_price  1000000 non-null  float64\n",
      " 3   repeat_retailer                 1000000 non-null  float64\n",
      " 4   used_chip                       1000000 non-null  float64\n",
      " 5   used_pin_number                 1000000 non-null  float64\n",
      " 6   online_order                    1000000 non-null  float64\n",
      " 7   fraud                           1000000 non-null  float64\n",
      "dtypes: float64(8)\n",
      "memory usage: 61.0 MB\n"
     ]
    }
   ],
   "source": [
    "# column information\n",
    "card.info()"
   ]
  },
  {
   "cell_type": "code",
   "execution_count": 8,
   "id": "41f25c09-11f7-41c6-8c11-c1b045f26cc4",
   "metadata": {
    "tags": []
   },
   "outputs": [
    {
     "data": {
      "text/html": [
       "<div>\n",
       "<style scoped>\n",
       "    .dataframe tbody tr th:only-of-type {\n",
       "        vertical-align: middle;\n",
       "    }\n",
       "\n",
       "    .dataframe tbody tr th {\n",
       "        vertical-align: top;\n",
       "    }\n",
       "\n",
       "    .dataframe thead th {\n",
       "        text-align: right;\n",
       "    }\n",
       "</style>\n",
       "<table border=\"1\" class=\"dataframe\">\n",
       "  <thead>\n",
       "    <tr style=\"text-align: right;\">\n",
       "      <th></th>\n",
       "      <th>distance_from_home</th>\n",
       "      <th>distance_from_last_transaction</th>\n",
       "      <th>ratio_to_median_purchase_price</th>\n",
       "      <th>repeat_retailer</th>\n",
       "      <th>used_chip</th>\n",
       "      <th>used_pin_number</th>\n",
       "      <th>online_order</th>\n",
       "      <th>fraud</th>\n",
       "    </tr>\n",
       "  </thead>\n",
       "  <tbody>\n",
       "    <tr>\n",
       "      <th>count</th>\n",
       "      <td>1000000.000000</td>\n",
       "      <td>1000000.000000</td>\n",
       "      <td>1000000.000000</td>\n",
       "      <td>1000000.000000</td>\n",
       "      <td>1000000.000000</td>\n",
       "      <td>1000000.000000</td>\n",
       "      <td>1000000.000000</td>\n",
       "      <td>1000000.000000</td>\n",
       "    </tr>\n",
       "    <tr>\n",
       "      <th>mean</th>\n",
       "      <td>26.628792</td>\n",
       "      <td>5.036519</td>\n",
       "      <td>1.824182</td>\n",
       "      <td>0.881536</td>\n",
       "      <td>0.350399</td>\n",
       "      <td>0.100608</td>\n",
       "      <td>0.650552</td>\n",
       "      <td>0.087403</td>\n",
       "    </tr>\n",
       "    <tr>\n",
       "      <th>std</th>\n",
       "      <td>65.390784</td>\n",
       "      <td>25.843093</td>\n",
       "      <td>2.799589</td>\n",
       "      <td>0.323157</td>\n",
       "      <td>0.477095</td>\n",
       "      <td>0.300809</td>\n",
       "      <td>0.476796</td>\n",
       "      <td>0.282425</td>\n",
       "    </tr>\n",
       "    <tr>\n",
       "      <th>min</th>\n",
       "      <td>0.004874</td>\n",
       "      <td>0.000118</td>\n",
       "      <td>0.004399</td>\n",
       "      <td>0.000000</td>\n",
       "      <td>0.000000</td>\n",
       "      <td>0.000000</td>\n",
       "      <td>0.000000</td>\n",
       "      <td>0.000000</td>\n",
       "    </tr>\n",
       "    <tr>\n",
       "      <th>25%</th>\n",
       "      <td>3.878008</td>\n",
       "      <td>0.296671</td>\n",
       "      <td>0.475673</td>\n",
       "      <td>1.000000</td>\n",
       "      <td>0.000000</td>\n",
       "      <td>0.000000</td>\n",
       "      <td>0.000000</td>\n",
       "      <td>0.000000</td>\n",
       "    </tr>\n",
       "    <tr>\n",
       "      <th>50%</th>\n",
       "      <td>9.967760</td>\n",
       "      <td>0.998650</td>\n",
       "      <td>0.997717</td>\n",
       "      <td>1.000000</td>\n",
       "      <td>0.000000</td>\n",
       "      <td>0.000000</td>\n",
       "      <td>1.000000</td>\n",
       "      <td>0.000000</td>\n",
       "    </tr>\n",
       "    <tr>\n",
       "      <th>75%</th>\n",
       "      <td>25.743985</td>\n",
       "      <td>3.355748</td>\n",
       "      <td>2.096370</td>\n",
       "      <td>1.000000</td>\n",
       "      <td>1.000000</td>\n",
       "      <td>0.000000</td>\n",
       "      <td>1.000000</td>\n",
       "      <td>0.000000</td>\n",
       "    </tr>\n",
       "    <tr>\n",
       "      <th>max</th>\n",
       "      <td>10632.723672</td>\n",
       "      <td>11851.104565</td>\n",
       "      <td>267.802942</td>\n",
       "      <td>1.000000</td>\n",
       "      <td>1.000000</td>\n",
       "      <td>1.000000</td>\n",
       "      <td>1.000000</td>\n",
       "      <td>1.000000</td>\n",
       "    </tr>\n",
       "  </tbody>\n",
       "</table>\n",
       "</div>"
      ],
      "text/plain": [
       "       distance_from_home  distance_from_last_transaction  \\\n",
       "count      1000000.000000                  1000000.000000   \n",
       "mean            26.628792                        5.036519   \n",
       "std             65.390784                       25.843093   \n",
       "min              0.004874                        0.000118   \n",
       "25%              3.878008                        0.296671   \n",
       "50%              9.967760                        0.998650   \n",
       "75%             25.743985                        3.355748   \n",
       "max          10632.723672                    11851.104565   \n",
       "\n",
       "       ratio_to_median_purchase_price  repeat_retailer       used_chip  \\\n",
       "count                  1000000.000000   1000000.000000  1000000.000000   \n",
       "mean                         1.824182         0.881536        0.350399   \n",
       "std                          2.799589         0.323157        0.477095   \n",
       "min                          0.004399         0.000000        0.000000   \n",
       "25%                          0.475673         1.000000        0.000000   \n",
       "50%                          0.997717         1.000000        0.000000   \n",
       "75%                          2.096370         1.000000        1.000000   \n",
       "max                        267.802942         1.000000        1.000000   \n",
       "\n",
       "       used_pin_number    online_order           fraud  \n",
       "count   1000000.000000  1000000.000000  1000000.000000  \n",
       "mean          0.100608        0.650552        0.087403  \n",
       "std           0.300809        0.476796        0.282425  \n",
       "min           0.000000        0.000000        0.000000  \n",
       "25%           0.000000        0.000000        0.000000  \n",
       "50%           0.000000        1.000000        0.000000  \n",
       "75%           0.000000        1.000000        0.000000  \n",
       "max           1.000000        1.000000        1.000000  "
      ]
     },
     "execution_count": 8,
     "metadata": {},
     "output_type": "execute_result"
    }
   ],
   "source": [
    "card.describe()"
   ]
  },
  {
   "cell_type": "code",
   "execution_count": 9,
   "id": "74ffa15f-bdca-46de-8d55-e49f194adbbd",
   "metadata": {
    "tags": []
   },
   "outputs": [
    {
     "data": {
      "text/plain": [
       "distance_from_home                0\n",
       "distance_from_last_transaction    0\n",
       "ratio_to_median_purchase_price    0\n",
       "repeat_retailer                   0\n",
       "used_chip                         0\n",
       "used_pin_number                   0\n",
       "online_order                      0\n",
       "fraud                             0\n",
       "dtype: int64"
      ]
     },
     "execution_count": 9,
     "metadata": {},
     "output_type": "execute_result"
    }
   ],
   "source": [
    "# check for missing values\n",
    "card.isna().sum()"
   ]
  },
  {
   "cell_type": "markdown",
   "id": "3ab47ec9-dbdf-4d04-9dbe-50cac8e1b6ae",
   "metadata": {},
   "source": [
    "We have no missing values."
   ]
  },
  {
   "cell_type": "markdown",
   "id": "076ed4b1-6da0-424d-bb2b-89c6ca53597d",
   "metadata": {},
   "source": [
    "## Visualizations"
   ]
  },
  {
   "cell_type": "code",
   "execution_count": 10,
   "id": "e582887e-dc7d-42fd-9106-b7d47f2b703f",
   "metadata": {
    "tags": []
   },
   "outputs": [
    {
     "data": {
      "image/png": "[encoded data removed]",
      "text/plain": [
       "<Figure size 640x480 with 2 Axes>"
      ]
     },
     "metadata": {},
     "output_type": "display_data"
    }
   ],
   "source": [
    "# check for correlation between variables\n",
    "cor = card.corr()\n",
    "sns.heatmap(cor, annot = True, fmt = '.2f', cmap = 'crest', linewidth = 0.7)\n",
    "plt.show()"
   ]
  },
  {
   "cell_type": "markdown",
   "id": "057adb58-823b-480d-8dbf-d4430e807332",
   "metadata": {},
   "source": [
    "Looking at the correlation heatap above, we can see we have a strong correlation between our target variable fraud and the ratio to median purchase median price feature. Therefore, we must have ratio to median purchase price as a predictor for our models. "
   ]
  },
  {
   "cell_type": "code",
   "execution_count": 11,
   "id": "0f79148b-a668-48e9-8bf7-6d94d5e309f3",
   "metadata": {
    "tags": []
   },
   "outputs": [
    {
     "data": {
      "image/png": "[encoded data removed]",
      "text/plain": [
       "<Figure size 640x480 with 1 Axes>"
      ]
     },
     "metadata": {},
     "output_type": "display_data"
    }
   ],
   "source": [
    "# check the distribution of class on our target variable\n",
    "card['fraud'].value_counts()\n",
    "sns.countplot(x = 'fraud', data = card, palette = 'magma')\n",
    "plt.xticks(ticks = [0,1], labels = ['Legitimate','Fraud'])\n",
    "plt.xlabel('Fraud or Not')\n",
    "plt.show()"
   ]
  },
  {
   "cell_type": "markdown",
   "id": "24b079e2-bfdd-4002-bb5d-597a393d6060",
   "metadata": {},
   "source": [
    "We can clearly see the distribution between the number of fraudlent purchases and non-fraudlent purchase where there is a significant amount of non-fraudalent purchases in our data."
   ]
  },
  {
   "cell_type": "code",
   "execution_count": 12,
   "id": "32ee7144-805f-4334-8175-57ca1d4b37b9",
   "metadata": {
    "tags": []
   },
   "outputs": [
    {
     "name": "stdout",
     "output_type": "stream",
     "text": [
      "online_order     0.0     1.0\n",
      "fraud                       \n",
      "0.0           344756  567841\n",
      "1.0             4692   82711\n"
     ]
    },
    {
     "data": {
      "image/png": "[encoded data removed]",
      "text/plain": [
       "<Figure size 640x480 with 1 Axes>"
      ]
     },
     "metadata": {},
     "output_type": "display_data"
    }
   ],
   "source": [
    "# check if for fraud occurences in online purchases\n",
    "sns.countplot(x = 'online_order',hue = 'fraud', data = card, palette = 'magma')\n",
    "print(pd.crosstab(index = card['fraud'], columns = card['online_order']))\n",
    "plt.xticks(ticks = [0,1], labels = ['No','Yes'])\n",
    "plt.show()"
   ]
  },
  {
   "cell_type": "markdown",
   "id": "f0efa5ec-2a15-434c-989d-1782a265a4e8",
   "metadata": {},
   "source": [
    "As we can see there was definitely more fraud purchases done online compared to purchases not done online."
   ]
  },
  {
   "cell_type": "code",
   "execution_count": 13,
   "id": "1205804e-25b6-4306-988c-ce49d09ffcea",
   "metadata": {
    "tags": []
   },
   "outputs": [
    {
     "name": "stdout",
     "output_type": "stream",
     "text": [
      "used_pin_number     0.0     1.0\n",
      "fraud                          \n",
      "0.0              812262  100335\n",
      "1.0               87130     273\n"
     ]
    },
    {
     "data": {
      "image/png": "[encoded data removed]",
      "text/plain": [
       "<Figure size 640x480 with 1 Axes>"
      ]
     },
     "metadata": {},
     "output_type": "display_data"
    }
   ],
   "source": [
    "# check if for fraud occurences if the card pin was used\n",
    "sns.countplot(x = 'used_pin_number',hue = 'fraud', data = card, palette = 'magma')\n",
    "print(pd.crosstab(index = card['fraud'], columns = card['used_pin_number']))\n",
    "plt.xticks(ticks = [0,1], labels = ['No','Yes'])\n",
    "plt.show()"
   ]
  },
  {
   "cell_type": "markdown",
   "id": "6bfeb707-577e-446e-8676-3ea5ecdf6816",
   "metadata": {},
   "source": [
    "Now comparing fraudalent purchase where the card pin was used we can see a majority of fraudalent purchases occured without using the card pin."
   ]
  },
  {
   "cell_type": "code",
   "execution_count": 14,
   "id": "3fa603b6-22ed-40da-aed4-8c31fb37780f",
   "metadata": {
    "tags": []
   },
   "outputs": [
    {
     "name": "stdout",
     "output_type": "stream",
     "text": [
      "used_chip     0.0     1.0\n",
      "fraud                    \n",
      "0.0        584608  327989\n",
      "1.0         64993   22410\n"
     ]
    },
    {
     "data": {
      "image/png": "[encoded data removed]",
      "text/plain": [
       "<Figure size 640x480 with 1 Axes>"
      ]
     },
     "metadata": {},
     "output_type": "display_data"
    }
   ],
   "source": [
    "# check if for fraud occurences if the card chip was used\n",
    "sns.countplot(x = 'used_chip',hue = 'fraud', data = card, palette = 'magma')\n",
    "print(pd.crosstab(index = card['fraud'], columns = card['used_chip']))\n",
    "plt.xticks(ticks = [0,1], labels = ['No','Yes'])\n",
    "plt.show()"
   ]
  },
  {
   "cell_type": "markdown",
   "id": "95d3f9bc-73ec-4b16-b41c-5e6bc40ff561",
   "metadata": {},
   "source": [
    "There was more fraudalent purchases where the chip on the card was not used. "
   ]
  },
  {
   "cell_type": "code",
   "execution_count": 15,
   "id": "ab3ece0f-9a9c-48dd-a8dc-48dabbf175ab",
   "metadata": {
    "tags": []
   },
   "outputs": [
    {
     "name": "stdout",
     "output_type": "stream",
     "text": [
      "repeat_retailer     0.0     1.0\n",
      "fraud                          \n",
      "0.0              107986  804611\n",
      "1.0               10478   76925\n"
     ]
    },
    {
     "data": {
      "image/png": "[encoded data removed]",
      "text/plain": [
       "<Figure size 640x480 with 1 Axes>"
      ]
     },
     "metadata": {},
     "output_type": "display_data"
    }
   ],
   "source": [
    "# check if for fraud occurences if it was in a repeated retailer\n",
    "sns.countplot(x = 'repeat_retailer',hue = 'fraud', data = card, palette = 'magma')\n",
    "print(pd.crosstab(index = card['fraud'], columns = card['repeat_retailer']))\n",
    "plt.xticks(ticks = [0,1], labels = ['No','Yes'])\n",
    "plt.show()"
   ]
  },
  {
   "cell_type": "markdown",
   "id": "880e1a14-1158-480b-886b-1b3ddd55bbb9",
   "metadata": {},
   "source": [
    "This one was interesting to me since more fraudalent purchases occured where the card was used to purchase an item previously. The probability of a fraudalent purchase in a repeated retailer was greater than a purchase on a unknown location. I don't see this as a coincidence or perhaps the retailer is a common place where fraudster go and buy items. "
   ]
  },
  {
   "cell_type": "code",
   "execution_count": 16,
   "id": "0d6a2667-1be2-46b1-860d-78232b226a00",
   "metadata": {
    "tags": []
   },
   "outputs": [
    {
     "data": {
      "image/png": "[encoded data removed]",
      "text/plain": [
       "<Figure size 640x480 with 1 Axes>"
      ]
     },
     "metadata": {},
     "output_type": "display_data"
    }
   ],
   "source": [
    "sns.boxplot(x = 'fraud', y = 'distance_from_last_transaction', \n",
    "                data = card, palette = 'Set2')\n",
    "plt.show()"
   ]
  },
  {
   "cell_type": "markdown",
   "id": "cf4bd79e-c303-4e94-93d8-5eedec806fc2",
   "metadata": {},
   "source": [
    "This one was also interesting to me, where fraudalent purchases occured relatively close to the lastest transaction on the same card. "
   ]
  },
  {
   "cell_type": "code",
   "execution_count": 17,
   "id": "a08d86a3-2986-4231-90f4-062198150341",
   "metadata": {
    "tags": []
   },
   "outputs": [
    {
     "data": {
      "image/png": "[encoded data removed]",
      "text/plain": [
       "<Figure size 640x480 with 1 Axes>"
      ]
     },
     "metadata": {},
     "output_type": "display_data"
    }
   ],
   "source": [
    "sns.boxplot(x = 'fraud', y = 'distance_from_home', \n",
    "                data = card, palette = 'Set2')\n",
    "plt.show()"
   ]
  },
  {
   "cell_type": "markdown",
   "id": "8a5c1223-bd0c-4da1-970a-564ba749db8c",
   "metadata": {},
   "source": [
    "## Splitting our data "
   ]
  },
  {
   "cell_type": "markdown",
   "id": "d1c689c5-e59b-4cbf-8ceb-0e9a3769f51f",
   "metadata": {},
   "source": [
    "We have to be careful the way we split the data since we observed there were a huge difference between legitimate purchases and fraudalent purchases, where they were way more legitimate purchases done in our dataset. We want to split the data so that when we train the model so that it has a good amount of samples to learn fraudalent purchases but also enough samples to test our model to check whether a observation was fraudalent or not. We consider stratified sampling where instead of pulling a subset of the data we pull a shuffled sampling from the data. Note: This does not solve the problem of class imbalance in our dataset, however, it provides a better method of splitting the data. "
   ]
  },
  {
   "cell_type": "code",
   "execution_count": 18,
   "id": "ca47bf85-60c9-4547-81d9-1c10a0a7d269",
   "metadata": {
    "tags": []
   },
   "outputs": [],
   "source": [
    "from sklearn.preprocessing import StandardScaler"
   ]
  },
  {
   "cell_type": "code",
   "execution_count": 19,
   "id": "cf1f1cf6-d200-4a4c-901c-7cf2ef8c7f6b",
   "metadata": {
    "tags": []
   },
   "outputs": [],
   "source": [
    "card[['repeat_retailer','used_chip','used_pin_number','online_order','fraud']] = card[['repeat_retailer','used_chip','used_pin_number','online_order','fraud']].astype('int')"
   ]
  },
  {
   "cell_type": "code",
   "execution_count": 20,
   "id": "22279222-b182-4bfa-8de7-b7a700132390",
   "metadata": {
    "tags": []
   },
   "outputs": [],
   "source": [
    "# scale our data before we split\n",
    "scaler = StandardScaler()\n",
    "card[['distance_from_home','distance_from_last_transaction','ratio_to_median_purchase_price']] = scaler.fit_transform(card[['distance_from_home','distance_from_last_transaction','ratio_to_median_purchase_price']])"
   ]
  },
  {
   "cell_type": "code",
   "execution_count": 21,
   "id": "f3b03b57-af7a-4e13-880c-4cc464b03cfe",
   "metadata": {
    "tags": []
   },
   "outputs": [
    {
     "data": {
      "text/html": [
       "<div>\n",
       "<style scoped>\n",
       "    .dataframe tbody tr th:only-of-type {\n",
       "        vertical-align: middle;\n",
       "    }\n",
       "\n",
       "    .dataframe tbody tr th {\n",
       "        vertical-align: top;\n",
       "    }\n",
       "\n",
       "    .dataframe thead th {\n",
       "        text-align: right;\n",
       "    }\n",
       "</style>\n",
       "<table border=\"1\" class=\"dataframe\">\n",
       "  <thead>\n",
       "    <tr style=\"text-align: right;\">\n",
       "      <th></th>\n",
       "      <th>distance_from_home</th>\n",
       "      <th>distance_from_last_transaction</th>\n",
       "      <th>ratio_to_median_purchase_price</th>\n",
       "      <th>repeat_retailer</th>\n",
       "      <th>used_chip</th>\n",
       "      <th>used_pin_number</th>\n",
       "      <th>online_order</th>\n",
       "      <th>fraud</th>\n",
       "    </tr>\n",
       "  </thead>\n",
       "  <tbody>\n",
       "    <tr>\n",
       "      <th>count</th>\n",
       "      <td>1.000000e+06</td>\n",
       "      <td>1.000000e+06</td>\n",
       "      <td>1.000000e+06</td>\n",
       "      <td>1000000.000000</td>\n",
       "      <td>1000000.000000</td>\n",
       "      <td>1000000.000000</td>\n",
       "      <td>1000000.000000</td>\n",
       "      <td>1000000.000000</td>\n",
       "    </tr>\n",
       "    <tr>\n",
       "      <th>mean</th>\n",
       "      <td>2.274163e-16</td>\n",
       "      <td>6.134027e-17</td>\n",
       "      <td>-2.633751e-16</td>\n",
       "      <td>0.881536</td>\n",
       "      <td>0.350399</td>\n",
       "      <td>0.100608</td>\n",
       "      <td>0.650552</td>\n",
       "      <td>0.087403</td>\n",
       "    </tr>\n",
       "    <tr>\n",
       "      <th>std</th>\n",
       "      <td>1.000001e+00</td>\n",
       "      <td>1.000001e+00</td>\n",
       "      <td>1.000001e+00</td>\n",
       "      <td>0.323157</td>\n",
       "      <td>0.477095</td>\n",
       "      <td>0.300809</td>\n",
       "      <td>0.476796</td>\n",
       "      <td>0.282425</td>\n",
       "    </tr>\n",
       "    <tr>\n",
       "      <th>min</th>\n",
       "      <td>-4.071511e-01</td>\n",
       "      <td>-1.948839e-01</td>\n",
       "      <td>-6.500182e-01</td>\n",
       "      <td>0.000000</td>\n",
       "      <td>0.000000</td>\n",
       "      <td>0.000000</td>\n",
       "      <td>0.000000</td>\n",
       "      <td>0.000000</td>\n",
       "    </tr>\n",
       "    <tr>\n",
       "      <th>25%</th>\n",
       "      <td>-3.479205e-01</td>\n",
       "      <td>-1.834088e-01</td>\n",
       "      <td>-4.816812e-01</td>\n",
       "      <td>1.000000</td>\n",
       "      <td>0.000000</td>\n",
       "      <td>0.000000</td>\n",
       "      <td>0.000000</td>\n",
       "      <td>0.000000</td>\n",
       "    </tr>\n",
       "    <tr>\n",
       "      <th>50%</th>\n",
       "      <td>-2.547919e-01</td>\n",
       "      <td>-1.562457e-01</td>\n",
       "      <td>-2.952096e-01</td>\n",
       "      <td>1.000000</td>\n",
       "      <td>0.000000</td>\n",
       "      <td>0.000000</td>\n",
       "      <td>1.000000</td>\n",
       "      <td>0.000000</td>\n",
       "    </tr>\n",
       "    <tr>\n",
       "      <th>75%</th>\n",
       "      <td>-1.353107e-02</td>\n",
       "      <td>-6.503759e-02</td>\n",
       "      <td>9.722443e-02</td>\n",
       "      <td>1.000000</td>\n",
       "      <td>1.000000</td>\n",
       "      <td>0.000000</td>\n",
       "      <td>1.000000</td>\n",
       "      <td>0.000000</td>\n",
       "    </tr>\n",
       "    <tr>\n",
       "      <th>max</th>\n",
       "      <td>1.621956e+02</td>\n",
       "      <td>4.583845e+02</td>\n",
       "      <td>9.500641e+01</td>\n",
       "      <td>1.000000</td>\n",
       "      <td>1.000000</td>\n",
       "      <td>1.000000</td>\n",
       "      <td>1.000000</td>\n",
       "      <td>1.000000</td>\n",
       "    </tr>\n",
       "  </tbody>\n",
       "</table>\n",
       "</div>"
      ],
      "text/plain": [
       "       distance_from_home  distance_from_last_transaction  \\\n",
       "count        1.000000e+06                    1.000000e+06   \n",
       "mean         2.274163e-16                    6.134027e-17   \n",
       "std          1.000001e+00                    1.000001e+00   \n",
       "min         -4.071511e-01                   -1.948839e-01   \n",
       "25%         -3.479205e-01                   -1.834088e-01   \n",
       "50%         -2.547919e-01                   -1.562457e-01   \n",
       "75%         -1.353107e-02                   -6.503759e-02   \n",
       "max          1.621956e+02                    4.583845e+02   \n",
       "\n",
       "       ratio_to_median_purchase_price  repeat_retailer       used_chip  \\\n",
       "count                    1.000000e+06   1000000.000000  1000000.000000   \n",
       "mean                    -2.633751e-16         0.881536        0.350399   \n",
       "std                      1.000001e+00         0.323157        0.477095   \n",
       "min                     -6.500182e-01         0.000000        0.000000   \n",
       "25%                     -4.816812e-01         1.000000        0.000000   \n",
       "50%                     -2.952096e-01         1.000000        0.000000   \n",
       "75%                      9.722443e-02         1.000000        1.000000   \n",
       "max                      9.500641e+01         1.000000        1.000000   \n",
       "\n",
       "       used_pin_number    online_order           fraud  \n",
       "count   1000000.000000  1000000.000000  1000000.000000  \n",
       "mean          0.100608        0.650552        0.087403  \n",
       "std           0.300809        0.476796        0.282425  \n",
       "min           0.000000        0.000000        0.000000  \n",
       "25%           0.000000        0.000000        0.000000  \n",
       "50%           0.000000        1.000000        0.000000  \n",
       "75%           0.000000        1.000000        0.000000  \n",
       "max           1.000000        1.000000        1.000000  "
      ]
     },
     "execution_count": 21,
     "metadata": {},
     "output_type": "execute_result"
    }
   ],
   "source": [
    "# check the scaled data\n",
    "card.describe()"
   ]
  },
  {
   "cell_type": "code",
   "execution_count": 22,
   "id": "48cb4462-91a3-4da1-80ab-92dd32f859a3",
   "metadata": {
    "tags": []
   },
   "outputs": [
    {
     "name": "stdout",
     "output_type": "stream",
     "text": [
      "<class 'pandas.core.frame.DataFrame'>\n",
      "RangeIndex: 1000000 entries, 0 to 999999\n",
      "Data columns (total 8 columns):\n",
      " #   Column                          Non-Null Count    Dtype  \n",
      "---  ------                          --------------    -----  \n",
      " 0   distance_from_home              1000000 non-null  float64\n",
      " 1   distance_from_last_transaction  1000000 non-null  float64\n",
      " 2   ratio_to_median_purchase_price  1000000 non-null  float64\n",
      " 3   repeat_retailer                 1000000 non-null  int64  \n",
      " 4   used_chip                       1000000 non-null  int64  \n",
      " 5   used_pin_number                 1000000 non-null  int64  \n",
      " 6   online_order                    1000000 non-null  int64  \n",
      " 7   fraud                           1000000 non-null  int64  \n",
      "dtypes: float64(3), int64(5)\n",
      "memory usage: 61.0 MB\n"
     ]
    }
   ],
   "source": [
    "card.info()"
   ]
  },
  {
   "cell_type": "markdown",
   "id": "1fab124c-a9d6-4a6e-8ebc-e952d8f81be3",
   "metadata": {},
   "source": [
    "## Split the Data"
   ]
  },
  {
   "cell_type": "code",
   "execution_count": 23,
   "id": "dbd12dc4-83b1-4a6a-a29f-baec8cabff22",
   "metadata": {
    "tags": []
   },
   "outputs": [],
   "source": [
    "# split the data\n",
    "\n",
    "# our predictor variables\n",
    "X = card.drop(['fraud'], axis = 1)\n",
    "\n",
    "# our target variable\n",
    "y = card['fraud']  "
   ]
  },
  {
   "cell_type": "code",
   "execution_count": 24,
   "id": "f70b86a5-36b7-42fb-98e1-52ab42ebd434",
   "metadata": {
    "tags": []
   },
   "outputs": [],
   "source": [
    "from sklearn.model_selection import train_test_split, cross_val_score, StratifiedKFold"
   ]
  },
  {
   "cell_type": "code",
   "execution_count": 25,
   "id": "807042d1-6a6c-4c8c-9176-bb8a009677bc",
   "metadata": {
    "tags": []
   },
   "outputs": [],
   "source": [
    "# splitting our data into training and testing sets\n",
    "# we startify our target variable \n",
    "X_train, X_test, y_train, y_test = train_test_split(X,y,test_size = 0.30, random_state = 42, stratify = y)"
   ]
  },
  {
   "cell_type": "code",
   "execution_count": 26,
   "id": "4224ad0d-4136-420f-87b2-b5ea64253a14",
   "metadata": {
    "tags": []
   },
   "outputs": [
    {
     "data": {
      "text/plain": [
       "((700000, 7), (700000,))"
      ]
     },
     "execution_count": 26,
     "metadata": {},
     "output_type": "execute_result"
    }
   ],
   "source": [
    "# training sets shape\n",
    "X_train.shape, y_train.shape"
   ]
  },
  {
   "cell_type": "code",
   "execution_count": 27,
   "id": "bc30dbf3-4d51-4eb8-90bf-818b2ff67eb9",
   "metadata": {
    "tags": []
   },
   "outputs": [
    {
     "data": {
      "text/plain": [
       "((300000, 7), (300000,))"
      ]
     },
     "execution_count": 27,
     "metadata": {},
     "output_type": "execute_result"
    }
   ],
   "source": [
    "# testing sets shape\n",
    "X_test.shape, y_test.shape"
   ]
  },
  {
   "cell_type": "code",
   "execution_count": 28,
   "id": "af436557-9dd2-4575-b4cc-6a664139ec69",
   "metadata": {
    "tags": []
   },
   "outputs": [
    {
     "data": {
      "text/html": [
       "<div>\n",
       "<style scoped>\n",
       "    .dataframe tbody tr th:only-of-type {\n",
       "        vertical-align: middle;\n",
       "    }\n",
       "\n",
       "    .dataframe tbody tr th {\n",
       "        vertical-align: top;\n",
       "    }\n",
       "\n",
       "    .dataframe thead th {\n",
       "        text-align: right;\n",
       "    }\n",
       "</style>\n",
       "<table border=\"1\" class=\"dataframe\">\n",
       "  <thead>\n",
       "    <tr style=\"text-align: right;\">\n",
       "      <th></th>\n",
       "      <th>distance_from_home</th>\n",
       "      <th>distance_from_last_transaction</th>\n",
       "      <th>ratio_to_median_purchase_price</th>\n",
       "      <th>repeat_retailer</th>\n",
       "      <th>used_chip</th>\n",
       "      <th>used_pin_number</th>\n",
       "      <th>online_order</th>\n",
       "    </tr>\n",
       "  </thead>\n",
       "  <tbody>\n",
       "    <tr>\n",
       "      <th>661471</th>\n",
       "      <td>-0.333739</td>\n",
       "      <td>-0.141510</td>\n",
       "      <td>-0.209753</td>\n",
       "      <td>1</td>\n",
       "      <td>0</td>\n",
       "      <td>0</td>\n",
       "      <td>0</td>\n",
       "    </tr>\n",
       "    <tr>\n",
       "      <th>75275</th>\n",
       "      <td>0.006473</td>\n",
       "      <td>-0.126550</td>\n",
       "      <td>-0.503107</td>\n",
       "      <td>1</td>\n",
       "      <td>0</td>\n",
       "      <td>0</td>\n",
       "      <td>0</td>\n",
       "    </tr>\n",
       "    <tr>\n",
       "      <th>386916</th>\n",
       "      <td>-0.294661</td>\n",
       "      <td>-0.188516</td>\n",
       "      <td>-0.300343</td>\n",
       "      <td>1</td>\n",
       "      <td>0</td>\n",
       "      <td>0</td>\n",
       "      <td>1</td>\n",
       "    </tr>\n",
       "    <tr>\n",
       "      <th>854266</th>\n",
       "      <td>7.786001</td>\n",
       "      <td>0.391370</td>\n",
       "      <td>0.141604</td>\n",
       "      <td>1</td>\n",
       "      <td>1</td>\n",
       "      <td>1</td>\n",
       "      <td>1</td>\n",
       "    </tr>\n",
       "    <tr>\n",
       "      <th>2376</th>\n",
       "      <td>-0.359986</td>\n",
       "      <td>-0.192365</td>\n",
       "      <td>-0.280407</td>\n",
       "      <td>1</td>\n",
       "      <td>0</td>\n",
       "      <td>1</td>\n",
       "      <td>1</td>\n",
       "    </tr>\n",
       "    <tr>\n",
       "      <th>...</th>\n",
       "      <td>...</td>\n",
       "      <td>...</td>\n",
       "      <td>...</td>\n",
       "      <td>...</td>\n",
       "      <td>...</td>\n",
       "      <td>...</td>\n",
       "      <td>...</td>\n",
       "    </tr>\n",
       "    <tr>\n",
       "      <th>806884</th>\n",
       "      <td>-0.312776</td>\n",
       "      <td>0.159408</td>\n",
       "      <td>-0.503563</td>\n",
       "      <td>1</td>\n",
       "      <td>0</td>\n",
       "      <td>0</td>\n",
       "      <td>0</td>\n",
       "    </tr>\n",
       "    <tr>\n",
       "      <th>62473</th>\n",
       "      <td>-0.130999</td>\n",
       "      <td>-0.151172</td>\n",
       "      <td>-0.280309</td>\n",
       "      <td>1</td>\n",
       "      <td>1</td>\n",
       "      <td>0</td>\n",
       "      <td>0</td>\n",
       "    </tr>\n",
       "    <tr>\n",
       "      <th>661343</th>\n",
       "      <td>-0.142145</td>\n",
       "      <td>-0.191992</td>\n",
       "      <td>1.840722</td>\n",
       "      <td>1</td>\n",
       "      <td>1</td>\n",
       "      <td>0</td>\n",
       "      <td>1</td>\n",
       "    </tr>\n",
       "    <tr>\n",
       "      <th>467315</th>\n",
       "      <td>-0.337959</td>\n",
       "      <td>1.582086</td>\n",
       "      <td>0.002524</td>\n",
       "      <td>1</td>\n",
       "      <td>1</td>\n",
       "      <td>0</td>\n",
       "      <td>1</td>\n",
       "    </tr>\n",
       "    <tr>\n",
       "      <th>911151</th>\n",
       "      <td>-0.114980</td>\n",
       "      <td>-0.177869</td>\n",
       "      <td>-0.592013</td>\n",
       "      <td>1</td>\n",
       "      <td>0</td>\n",
       "      <td>1</td>\n",
       "      <td>0</td>\n",
       "    </tr>\n",
       "  </tbody>\n",
       "</table>\n",
       "<p>700000 rows × 7 columns</p>\n",
       "</div>"
      ],
      "text/plain": [
       "        distance_from_home  distance_from_last_transaction  \\\n",
       "661471           -0.333739                       -0.141510   \n",
       "75275             0.006473                       -0.126550   \n",
       "386916           -0.294661                       -0.188516   \n",
       "854266            7.786001                        0.391370   \n",
       "2376             -0.359986                       -0.192365   \n",
       "...                    ...                             ...   \n",
       "806884           -0.312776                        0.159408   \n",
       "62473            -0.130999                       -0.151172   \n",
       "661343           -0.142145                       -0.191992   \n",
       "467315           -0.337959                        1.582086   \n",
       "911151           -0.114980                       -0.177869   \n",
       "\n",
       "        ratio_to_median_purchase_price  repeat_retailer  used_chip  \\\n",
       "661471                       -0.209753                1          0   \n",
       "75275                        -0.503107                1          0   \n",
       "386916                       -0.300343                1          0   \n",
       "854266                        0.141604                1          1   \n",
       "2376                         -0.280407                1          0   \n",
       "...                                ...              ...        ...   \n",
       "806884                       -0.503563                1          0   \n",
       "62473                        -0.280309                1          1   \n",
       "661343                        1.840722                1          1   \n",
       "467315                        0.002524                1          1   \n",
       "911151                       -0.592013                1          0   \n",
       "\n",
       "        used_pin_number  online_order  \n",
       "661471                0             0  \n",
       "75275                 0             0  \n",
       "386916                0             1  \n",
       "854266                1             1  \n",
       "2376                  1             1  \n",
       "...                 ...           ...  \n",
       "806884                0             0  \n",
       "62473                 0             0  \n",
       "661343                0             1  \n",
       "467315                0             1  \n",
       "911151                1             0  \n",
       "\n",
       "[700000 rows x 7 columns]"
      ]
     },
     "execution_count": 28,
     "metadata": {},
     "output_type": "execute_result"
    }
   ],
   "source": [
    "X_train"
   ]
  },
  {
   "cell_type": "code",
   "execution_count": 29,
   "id": "85e10ad8-5e66-42b0-81a2-6fbf92f5c253",
   "metadata": {
    "tags": []
   },
   "outputs": [
    {
     "data": {
      "text/plain": [
       "0    638818\n",
       "1     61182\n",
       "Name: fraud, dtype: int64"
      ]
     },
     "execution_count": 29,
     "metadata": {},
     "output_type": "execute_result"
    }
   ],
   "source": [
    "y_train.value_counts()"
   ]
  },
  {
   "cell_type": "code",
   "execution_count": 30,
   "id": "46f3ad9a-fe9a-48c2-8c74-b2ec5ef90185",
   "metadata": {
    "tags": []
   },
   "outputs": [
    {
     "data": {
      "text/plain": [
       "0    273779\n",
       "1     26221\n",
       "Name: fraud, dtype: int64"
      ]
     },
     "execution_count": 30,
     "metadata": {},
     "output_type": "execute_result"
    }
   ],
   "source": [
    "y_test.value_counts()"
   ]
  },
  {
   "cell_type": "markdown",
   "id": "a85eb20c-aacb-40a0-915f-8191890c5045",
   "metadata": {},
   "source": [
    "## Random Forest Classifier"
   ]
  },
  {
   "cell_type": "code",
   "execution_count": 31,
   "id": "aaaf325d-de3c-409d-98d0-4a696b369ba7",
   "metadata": {
    "tags": []
   },
   "outputs": [],
   "source": [
    "from sklearn.ensemble import RandomForestClassifier\n",
    "from sklearn import metrics"
   ]
  },
  {
   "cell_type": "code",
   "execution_count": 32,
   "id": "9f3aa4c4-f68d-4740-b1b5-35573a61f752",
   "metadata": {
    "tags": []
   },
   "outputs": [
    {
     "name": "stdout",
     "output_type": "stream",
     "text": [
      "Random Forest Classifier scores:\n",
      "Mean accuracy score of 5-fold CV on Training set: 0.9999857142857141 (std: 7.824607964335488e-06)\n",
      "Mean accuracy score of 5-fold CV on Testing set: 0.9999733333333334 (std: 2.260776661041507e-05)\n"
     ]
    }
   ],
   "source": [
    "rfc = RandomForestClassifier(random_state = 0)\n",
    "rfc.fit(X_train, y_train)\n",
    "\n",
    "skf = StratifiedKFold(shuffle = True, n_splits = 5, random_state = 5)\n",
    "tr_sc = cross_val_score(rfc, X_train, y_train, cv = skf)\n",
    "te_sc = cross_val_score(rfc, X_test, y_test, cv = skf)\n",
    "\n",
    "print('Random Forest Classifier scores:')\n",
    "print(f'Mean accuracy score of 5-fold CV on Training set: {tr_sc.mean()} (std: {tr_sc.std()})')\n",
    "print(f'Mean accuracy score of 5-fold CV on Testing set: {te_sc.mean()} (std: {te_sc.std()})')"
   ]
  },
  {
   "cell_type": "markdown",
   "id": "a15486f2-8d9d-4da1-a9fd-5fdff334282d",
   "metadata": {
    "tags": []
   },
   "source": [
    "## XGBoost Classifier"
   ]
  },
  {
   "cell_type": "code",
   "execution_count": 33,
   "id": "39722ea4-8ab1-44da-bd19-c1b284090ad4",
   "metadata": {},
   "outputs": [],
   "source": [
    "import xgboost as xgb "
   ]
  },
  {
   "cell_type": "code",
   "execution_count": 34,
   "id": "1fe7c12f-e8fd-4827-8a1a-e653a4ff05c4",
   "metadata": {},
   "outputs": [
    {
     "name": "stdout",
     "output_type": "stream",
     "text": [
      "XGBoost Classifier scores:\n",
      "Mean accuracy score of 5-fold CV on Training set: 0.9999757142857142 (std: 1.069044967647206e-05)\n",
      "Mean accuracy score of 5-fold CV on Testing set: 0.9999566666666666 (std: 3.091206165164894e-05)\n"
     ]
    }
   ],
   "source": [
    "boost = xgb.XGBClassifier(random_state = 5)\n",
    "boost.fit(X_train,y_train)\n",
    "\n",
    "skf = StratifiedKFold(shuffle = True, n_splits = 5, random_state = 5)\n",
    "tr_sc = cross_val_score(boost, X_train, y_train, cv = skf)\n",
    "te_sc = cross_val_score(boost, X_test, y_test, cv = skf)\n",
    "\n",
    "\n",
    "print('XGBoost Classifier scores:')\n",
    "print(f'Mean accuracy score of 5-fold CV on Training set: {tr_sc.mean()} (std: {tr_sc.std()})')\n",
    "print(f'Mean accuracy score of 5-fold CV on Testing set: {te_sc.mean()} (std: {te_sc.std()})')"
   ]
  },
  {
   "cell_type": "markdown",
   "id": "d777a10f-cbf9-4104-aff7-a35488aa0fd9",
   "metadata": {},
   "source": [
    "## Logistic Regression "
   ]
  },
  {
   "cell_type": "code",
   "execution_count": 35,
   "id": "9e2bc239-9c24-4050-80dd-3e345a990628",
   "metadata": {
    "tags": []
   },
   "outputs": [],
   "source": [
    "from sklearn.linear_model import LogisticRegression"
   ]
  },
  {
   "cell_type": "code",
   "execution_count": 40,
   "id": "c6884c81-799d-4d7e-bc58-8f060a03d508",
   "metadata": {},
   "outputs": [
    {
     "name": "stdout",
     "output_type": "stream",
     "text": [
      "Logistic Regression with L1 penalty, scores:\n",
      "Mean accuracy score of 5-fold CV on Training set: 0.9584742857142856 (std: 0.00022779331842344972)\n",
      "Mean accuracy score of 5-fold CV on Testing set: 0.9596033333333333 (std: 0.00041384377084433937)\n"
     ]
    }
   ],
   "source": [
    "# Logistic Regression with Lasso penalty (L1)\n",
    "log_l1 = LogisticRegression(solver = 'liblinear',penalty = 'l1')\n",
    "log_l1.fit(X_train,y_train)\n",
    "\n",
    "skf = StratifiedKFold(shuffle = True, n_splits = 5, random_state = 5)\n",
    "tr_sc = cross_val_score(log_l1, X_train, y_train, cv = skf)\n",
    "te_sc = cross_val_score(log_l1, X_test, y_test, cv = skf)\n",
    "\n",
    "\n",
    "print('Logistic Regression with L1 penalty, scores:')\n",
    "print(f'Mean accuracy score of 5-fold CV on Training set: {tr_sc.mean()} (std: {tr_sc.std()})')\n",
    "print(f'Mean accuracy score of 5-fold CV on Testing set: {te_sc.mean()} (std: {te_sc.std()})')"
   ]
  },
  {
   "cell_type": "code",
   "execution_count": 41,
   "id": "99c1763d-aac2-4dc1-ab9a-ea37c6c0dcd6",
   "metadata": {
    "tags": []
   },
   "outputs": [
    {
     "name": "stdout",
     "output_type": "stream",
     "text": [
      "Logistic Regression with L2 penalty, scores:\n",
      "Mean accuracy score of 5-fold CV on Training set: 0.9583314285714286 (std: 0.00023628070473182504)\n",
      "Mean accuracy score of 5-fold CV on Testing set: 0.9592933333333333 (std: 0.00040669398815325417)\n"
     ]
    }
   ],
   "source": [
    "# Logistic Regression With Ridge penalty (L2)\n",
    "log_l2 = LogisticRegression(solver = 'liblinear',penalty = 'l2')\n",
    "log_l2.fit(X_train,y_train)\n",
    "\n",
    "skf = StratifiedKFold(shuffle = True, n_splits = 5, random_state = 5)\n",
    "tr_sc = cross_val_score(log_l2, X_train, y_train, cv = skf)\n",
    "te_sc = cross_val_score(log_l2, X_test, y_test, cv = skf)\n",
    "\n",
    "\n",
    "print('Logistic Regression with L2 penalty, scores:')\n",
    "print(f'Mean accuracy score of 5-fold CV on Training set: {tr_sc.mean()} (std: {tr_sc.std()})')\n",
    "print(f'Mean accuracy score of 5-fold CV on Testing set: {te_sc.mean()} (std: {te_sc.std()})')"
   ]
  },
  {
   "cell_type": "code",
   "execution_count": 44,
   "id": "0057934c-9b85-4dfd-8048-d1b3334b6349",
   "metadata": {
    "tags": []
   },
   "outputs": [],
   "source": [
    "from sklearn.metrics import classification_report, confusion_matrix, accuracy_score"
   ]
  },
  {
   "cell_type": "code",
   "execution_count": 48,
   "id": "2747815d-6dfb-498a-8037-a3519994bffb",
   "metadata": {
    "tags": []
   },
   "outputs": [
    {
     "name": "stdout",
     "output_type": "stream",
     "text": [
      "The accuracy of Logistic(L1) model on testing set is: 95.91966666666667% \n",
      "\n"
     ]
    },
    {
     "data": {
      "image/png": "[encoded data removed]",
      "text/plain": [
       "<Figure size 640x480 with 2 Axes>"
      ]
     },
     "metadata": {},
     "output_type": "display_data"
    }
   ],
   "source": [
    "y_pred = log_l1.predict(X_test)\n",
    "\n",
    "# Confusion Matrix\n",
    "log_matrix = confusion_matrix(y_test, y_pred)\n",
    "sns.heatmap(log_matrix, annot=True, fmt=\"d\")\n",
    "plt.title('Logistic Regression L1 penalty Confusion Matrix')\n",
    "plt.xlabel('Actual')\n",
    "plt.ylabel('Predicted')\n",
    "\n",
    "print(f\"The accuracy of Logistic(L1) model on testing set is: {accuracy_score(y_test, y_pred)*100}% \\n\")"
   ]
  },
  {
   "cell_type": "markdown",
   "id": "dd804f2a-5f17-4554-af87-30aadfecab3b",
   "metadata": {},
   "source": [
    "Creating a confusion matrix on the testing set and using sklearn [confusion matrix documentation](https://scikit-learn.org/stable/modules/generated/sklearn.metrics.confusion_matrix.html) the upper left corner represents the true negatives. In our scenario the true negatives represents all non-fraudalent purchase predicted accurately by the Logistic Regression model. The lower right corner are the true positives or the fraudalent purchases predicted accurately by our model. However in the top right corner we have the false positives, which represents all the observations categorized as fraudalent purchases but actually weren't fraudalent purchases. The number of false positives in our model was about 1841 purchases that were considered fraudalent transactions but actually were not. Now this represents a problem since we are denying a good amount of purchases, since they were considered fraudalent but weren't, this mistake might cost a company a huge amount of money. So we want to reduce the amount of false positives and categorized them as verified purchases. Note we might classify actual fraudalent purchases as non-fraudalent purchases but this scenario would cost the company less expense rather than considering worst case scenario as a fraudalent purchase. "
   ]
  },
  {
   "cell_type": "code",
   "execution_count": 58,
   "id": "eaee5dea-7e36-4568-b837-b2cb766a7c39",
   "metadata": {
    "tags": []
   },
   "outputs": [
    {
     "data": {
      "text/plain": [
       "array([[9.38013302e-01, 6.19866983e-02],\n",
       "       [9.99988787e-01, 1.12128293e-05],\n",
       "       [9.99741310e-01, 2.58689612e-04],\n",
       "       ...,\n",
       "       [9.99964389e-01, 3.56112912e-05],\n",
       "       [9.88938703e-01, 1.10612972e-02],\n",
       "       [1.95646922e-01, 8.04353078e-01]])"
      ]
     },
     "execution_count": 58,
     "metadata": {},
     "output_type": "execute_result"
    }
   ],
   "source": [
    "log_l1.predict_proba(X_test)"
   ]
  },
  {
   "cell_type": "code",
   "execution_count": 65,
   "id": "51432ade-f2e4-4544-a32c-180f1f2f6eab",
   "metadata": {
    "tags": []
   },
   "outputs": [
    {
     "name": "stdout",
     "output_type": "stream",
     "text": [
      "The accuracy of Logistic(L1) model on testing set is: 94.42866666666667% \n",
      "\n"
     ]
    },
    {
     "data": {
      "image/png": "[encoded data removed]",
      "text/plain": [
       "<Figure size 640x480 with 2 Axes>"
      ]
     },
     "metadata": {},
     "output_type": "display_data"
    }
   ],
   "source": [
    "THRESHOLD = .75\n",
    "y_pred = np.where(log_l1.predict_proba(X_test)[:,1] > THRESHOLD, 1, 0)\n",
    "\n",
    "# Confusion Matrix\n",
    "log_matrix = confusion_matrix(y_test, y_pred)\n",
    "sns.heatmap(log_matrix, annot=True, fmt=\"d\")\n",
    "plt.title('Logistic Regression L1 penalty Confusion Matrix')\n",
    "plt.xlabel('Actual')\n",
    "plt.ylabel('Predicted')\n",
    "\n",
    "print(f\"The accuracy of Logistic(L1) model on testing set is: {accuracy_score(y_test, y_pred)*100}% \\n\")\n"
   ]
  },
  {
   "cell_type": "markdown",
   "id": "0b9d2220-2f88-454e-a0e3-de54cff52890",
   "metadata": {},
   "source": [
    "Observe how increasing the threshold for a fraudalent purchase probability to be greater than 75%, we were able to reduce the number of false positives by 700. However, this came at a cost of reducing the number of true positive, the number of predicting a fraudalent purchase. We also increased the number of false negatives, the fraudalent purchases classified as non-fraudalent purchases. "
   ]
  },
  {
   "cell_type": "markdown",
   "id": "6653b6bb-6a2b-4e8b-8b5f-9c14dc9a1d93",
   "metadata": {},
   "source": [
    "# Credit Card Fraud Predictor System "
   ]
  },
  {
   "cell_type": "code",
   "execution_count": 66,
   "id": "76e2a879-178f-4845-a99e-e3f46f980f2b",
   "metadata": {
    "tags": []
   },
   "outputs": [
    {
     "data": {
      "text/plain": [
       "Int64Index([217309, 902387, 175152, 527113, 973041, 234517, 170610, 810487,\n",
       "            775308, 229341,\n",
       "            ...\n",
       "            972726, 758700, 692687, 962441, 719037, 201404, 491022, 184583,\n",
       "            281543,  49262],\n",
       "           dtype='int64', length=300000)"
      ]
     },
     "execution_count": 66,
     "metadata": {},
     "output_type": "execute_result"
    }
   ],
   "source": [
    "# we choose a random observation\n",
    "X_test.index"
   ]
  },
  {
   "cell_type": "code",
   "execution_count": 67,
   "id": "8c972de3-fc13-4124-a0d4-37f2cdb5b568",
   "metadata": {
    "tags": []
   },
   "outputs": [
    {
     "name": "stdout",
     "output_type": "stream",
     "text": [
      "(1, 8)\n"
     ]
    },
    {
     "data": {
      "text/html": [
       "<div>\n",
       "<style scoped>\n",
       "    .dataframe tbody tr th:only-of-type {\n",
       "        vertical-align: middle;\n",
       "    }\n",
       "\n",
       "    .dataframe tbody tr th {\n",
       "        vertical-align: top;\n",
       "    }\n",
       "\n",
       "    .dataframe thead th {\n",
       "        text-align: right;\n",
       "    }\n",
       "</style>\n",
       "<table border=\"1\" class=\"dataframe\">\n",
       "  <thead>\n",
       "    <tr style=\"text-align: right;\">\n",
       "      <th></th>\n",
       "      <th>distance_from_home</th>\n",
       "      <th>distance_from_last_transaction</th>\n",
       "      <th>ratio_to_median_purchase_price</th>\n",
       "      <th>repeat_retailer</th>\n",
       "      <th>used_chip</th>\n",
       "      <th>used_pin_number</th>\n",
       "      <th>online_order</th>\n",
       "      <th>fraud</th>\n",
       "    </tr>\n",
       "  </thead>\n",
       "  <tbody>\n",
       "    <tr>\n",
       "      <th>170283</th>\n",
       "      <td>-0.325472</td>\n",
       "      <td>2.296325</td>\n",
       "      <td>-0.435238</td>\n",
       "      <td>1</td>\n",
       "      <td>0</td>\n",
       "      <td>0</td>\n",
       "      <td>1</td>\n",
       "      <td>1</td>\n",
       "    </tr>\n",
       "  </tbody>\n",
       "</table>\n",
       "</div>"
      ],
      "text/plain": [
       "        distance_from_home  distance_from_last_transaction  \\\n",
       "170283           -0.325472                        2.296325   \n",
       "\n",
       "        ratio_to_median_purchase_price  repeat_retailer  used_chip  \\\n",
       "170283                       -0.435238                1          0   \n",
       "\n",
       "        used_pin_number  online_order  fraud  \n",
       "170283                0             1      1  "
      ]
     },
     "execution_count": 67,
     "metadata": {},
     "output_type": "execute_result"
    }
   ],
   "source": [
    "# check if the example is a fraudalent purchase or not\n",
    "fraud_purchase = card.iloc[card.index == 170283,:]\n",
    "print(fraud_purchase.shape)\n",
    "fraud_purchase"
   ]
  },
  {
   "cell_type": "markdown",
   "id": "5087302b-0985-4541-83f8-c1c53ec7108d",
   "metadata": {},
   "source": [
    "Observe that the observation purchased is a fraudalent purchase! Lets see if our credit card fraud detector system is able to recognize that this purchase is fraudalent. "
   ]
  },
  {
   "cell_type": "code",
   "execution_count": 68,
   "id": "45d1eb54-7b8d-497f-bff4-a8f3c0a193ca",
   "metadata": {
    "tags": []
   },
   "outputs": [],
   "source": [
    "# we drop the fraud column\n",
    "example = fraud_purchase.drop(['fraud'],axis = 1)"
   ]
  },
  {
   "cell_type": "code",
   "execution_count": 69,
   "id": "b625243f-a63c-4b2c-8d90-b6b907a300a5",
   "metadata": {
    "tags": []
   },
   "outputs": [
    {
     "data": {
      "text/html": [
       "<div>\n",
       "<style scoped>\n",
       "    .dataframe tbody tr th:only-of-type {\n",
       "        vertical-align: middle;\n",
       "    }\n",
       "\n",
       "    .dataframe tbody tr th {\n",
       "        vertical-align: top;\n",
       "    }\n",
       "\n",
       "    .dataframe thead th {\n",
       "        text-align: right;\n",
       "    }\n",
       "</style>\n",
       "<table border=\"1\" class=\"dataframe\">\n",
       "  <thead>\n",
       "    <tr style=\"text-align: right;\">\n",
       "      <th></th>\n",
       "      <th>distance_from_home</th>\n",
       "      <th>distance_from_last_transaction</th>\n",
       "      <th>ratio_to_median_purchase_price</th>\n",
       "      <th>repeat_retailer</th>\n",
       "      <th>used_chip</th>\n",
       "      <th>used_pin_number</th>\n",
       "      <th>online_order</th>\n",
       "    </tr>\n",
       "  </thead>\n",
       "  <tbody>\n",
       "    <tr>\n",
       "      <th>170283</th>\n",
       "      <td>-0.325472</td>\n",
       "      <td>2.296325</td>\n",
       "      <td>-0.435238</td>\n",
       "      <td>1</td>\n",
       "      <td>0</td>\n",
       "      <td>0</td>\n",
       "      <td>1</td>\n",
       "    </tr>\n",
       "  </tbody>\n",
       "</table>\n",
       "</div>"
      ],
      "text/plain": [
       "        distance_from_home  distance_from_last_transaction  \\\n",
       "170283           -0.325472                        2.296325   \n",
       "\n",
       "        ratio_to_median_purchase_price  repeat_retailer  used_chip  \\\n",
       "170283                       -0.435238                1          0   \n",
       "\n",
       "        used_pin_number  online_order  \n",
       "170283                0             1  "
      ]
     },
     "execution_count": 69,
     "metadata": {},
     "output_type": "execute_result"
    }
   ],
   "source": [
    "example"
   ]
  },
  {
   "cell_type": "code",
   "execution_count": 70,
   "id": "87d90584-c4f2-4cb6-a6af-63611fd48468",
   "metadata": {
    "tags": []
   },
   "outputs": [],
   "source": [
    "# credit card fraud detection system\n",
    "def fraud_detection(obs):\n",
    "    result = boost.predict(obs)\n",
    "    if result[0] == 1:\n",
    "        print(\"This is a fraudalent purchase!\")\n",
    "    else: \n",
    "        print(\"This transaction is verified\")"
   ]
  },
  {
   "cell_type": "code",
   "execution_count": 71,
   "id": "973654c4-06c6-4755-a1db-f6d4116a9609",
   "metadata": {
    "tags": []
   },
   "outputs": [
    {
     "name": "stdout",
     "output_type": "stream",
     "text": [
      "This is a fraudalent purchase!\n"
     ]
    }
   ],
   "source": [
    "# check the results \n",
    "fraud_detection(example)"
   ]
  },
  {
   "cell_type": "markdown",
   "id": "a7d154a0-4ddd-4b82-88bf-9310028fee4d",
   "metadata": {},
   "source": [
    "## Conclusion: \n",
    "The XGBoost Classifier algorithm returned a accuracy score on both the training and testing data of a score above 99.99%. The accuracy score recieved was the mean of a 5-fold stratified cross validation on both datasets. Therefore, we can conclude that the model was not overfitting or being biased by the data it was trained on. This makes the credit card fraud detection system a pretty accurate dector for fraudalent transactions. "
   ]
  },
  {
   "cell_type": "code",
   "execution_count": null,
   "id": "d1a7a146-e265-40dc-bf69-8594ba60af97",
   "metadata": {},
   "outputs": [],
   "source": []
  }
 ],
 "metadata": {
  "kernelspec": {
   "display_name": "Python 3 (ipykernel)",
   "language": "python",
   "name": "python3"
  },
  "language_info": {
   "codemirror_mode": {
    "name": "ipython",
    "version": 3
   },
   "file_extension": ".py",
   "mimetype": "text/x-python",
   "name": "python",
   "nbconvert_exporter": "python",
   "pygments_lexer": "ipython3",
   "version": "3.9.13"
  }
 },
 "nbformat": 4,
 "nbformat_minor": 5
}
