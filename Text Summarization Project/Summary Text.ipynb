{
 "cells": [
  {
   "cell_type": "markdown",
   "id": "bdd4b306-0b50-4181-8a08-5fd56cd837bc",
   "metadata": {},
   "source": [
    "# Text Summarization"
   ]
  },
  {
   "cell_type": "markdown",
   "id": "7a5eab21-de72-4c8f-be21-ed047e164350",
   "metadata": {},
   "source": [
    "### Goal:\n",
    "The sheer volume of text data that has been written—and that is written every day—makes automatic text summary very useful. Here we will summarize the infamous Data Science article called 'Data Science The Sexiest Job of the 21st Century' and see how well it performs."
   ]
  },
  {
   "cell_type": "code",
   "execution_count": 3,
   "id": "44c99c96-606a-47bf-8cab-bb7cfec46f84",
   "metadata": {
    "tags": []
   },
   "outputs": [
    {
     "name": "stderr",
     "output_type": "stream",
     "text": [
      "[nltk_data] Downloading package punkt to\n",
      "[nltk_data]     /Users/luisosorio/nltk_data...\n",
      "[nltk_data]   Package punkt is already up-to-date!\n"
     ]
    },
    {
     "data": {
      "text/plain": [
       "True"
      ]
     },
     "execution_count": 3,
     "metadata": {},
     "output_type": "execute_result"
    }
   ],
   "source": [
    "# load and install needed libraries\n",
    "# !pip install gensim\n",
    "import gensim\n",
    "import re\n",
    "import requests\n",
    "from bs4 import BeautifulSoup\n",
    "\n",
    "#!pip install sumy\n",
    "import sumy\n",
    "\n",
    "from sumy.parsers.plaintext import PlaintextParser\n",
    "from sumy.nlp.tokenizers import Tokenizer\n",
    "from sumy.summarizers.lex_rank import LexRankSummarizer\n",
    "import nltk\n",
    "nltk.download('punkt')"
   ]
  },
  {
   "cell_type": "code",
   "execution_count": 4,
   "id": "9bd433d7-5d61-495c-a974-652bdebf538c",
   "metadata": {
    "tags": []
   },
   "outputs": [
    {
     "name": "stdout",
     "output_type": "stream",
     "text": [
      "This domain is for use in illustrative examples in documents. You may use this\n",
      "    domain in literature without prior coordination or asking for permission.More information...\n"
     ]
    }
   ],
   "source": [
    "url = \"http://example.com/news-post\"  # Replace with the URL of the news post\n",
    "\n",
    "response = requests.get(url)\n",
    "soup = BeautifulSoup(response.content, \"html.parser\")\n",
    "\n",
    "# Extract the text from the news post\n",
    "text = \"\"\n",
    "for paragraph in soup.find_all(\"p\"):\n",
    "    text += paragraph.get_text()\n",
    "\n",
    "# Print the text\n",
    "print(text)"
   ]
  },
  {
   "cell_type": "code",
   "execution_count": 5,
   "id": "1bde9c1c-0125-4e1e-8e64-1519d81d5555",
   "metadata": {
    "tags": []
   },
   "outputs": [
    {
     "name": "stdout",
     "output_type": "stream",
     "text": [
      "Back in the 1990s, computer engineer and Wall Street “quant” were the hot occupations in business. Today data scientists are the hires firms are competing to make. As companies wrestle with unprecedented volumes and types of information, demand for these experts has raced well ahead of supply. Indeed, Greylock Partners, the VC firm that backed Facebook and LinkedIn, is so worried about the shortage of data scientists that it has a recruiting team dedicated to channeling them to the businesses in its portfolio.Data scientists are the key to realizing the opportunities presented by big data. They bring structure to it, find compelling patterns in it, and advise executives on the implications for products, processes, and decisions. They find the story buried in the data and communicate it. And they don’t just deliver reports: They get at the questions at the heart of problems and devise creative approaches to them. One data scientist who was studying a fraud problem, for example, realized it was analogous to a type of DNA sequencing problem. Bringing those disparate worlds together, he crafted a solution that dramatically reduced fraud losses.In this article, Harvard Business School’s Davenport and Greylock’s Patil take a deep dive on what organizations need to know about data scientists: where to look for them, how to attract and develop them, and how to spot a great one.When Jonathan Goldman arrived for work in June 2006 at LinkedIn, the business networking site, the place still felt like a start-up. The company had just under 8 million accounts, and the number was growing quickly as existing members invited their friends and colleagues to join. But users weren’t seeking out connections with the people who were already on the site at the rate executives had expected. Something was apparently missing in the social experience. As one LinkedIn manager put it, “It was like arriving at a conference reception and realizing you don’t know anyone. So you just stand in the corner sipping your drink—and you probably leave early.”Goldman, a PhD in physics from Stanford, was intrigued by the linking he did see going on and by the richness of the user profiles. It all made for messy data and unwieldy analysis, but as he began exploring people’s connections, he started to see possibilities. He began forming theories, testing hunches, and finding patterns that allowed him to predict whose networks a given profile would land in. He could imagine that new features capitalizing on the heuristics he was developing might provide value to users. But LinkedIn’s engineering team, caught up in the challenges of scaling up the site, seemed uninterested. Some colleagues were openly dismissive of Goldman’s ideas. Why would users need LinkedIn to figure out their networks for them? The site already had an address book importer that could pull in all a member’s connections.Luckily, Reid Hoffman, LinkedIn’s cofounder and CEO at the time (now its executive chairman), had faith in the power of analytics because of his experiences at PayPal, and he had granted Goldman a high degree of autonomy. For one thing, he had given Goldman a way to circumvent the traditional product release cycle by publishing small modules in the form of ads on the site’s most popular pages.Through one such module, Goldman started to test what would happen if you presented users with names of people they hadn’t yet connected with but seemed likely to know—for example, people who had shared their tenures at schools and workplaces. He did this by ginning up a custom ad that displayed the three best new matches for each user based on the background entered in his or her LinkedIn profile. Within days it was obvious that something remarkable was taking place. The click-through rate on those ads was the highest ever seen. Goldman continued to refine how the suggestions were generated, incorporating networking ideas such as “triangle closing”—the notion that if you know Larry and Sue, there’s a good chance that Larry and Sue know each other. Goldman and his team also got the action required to respond to a suggestion down to one click.The shortage of data scientists is becoming a serious constraint in some sectors.It didn’t take long for LinkedIn’s top managers to recognize a good idea and make it a standard feature. That’s when things really took off. “People You May Know” ads achieved a click-through rate 30% higher than the rate obtained by other prompts to visit more pages on the site. They generated millions of new page views. Thanks to this one feature, LinkedIn’s growth trajectory shifted significantly upward.Goldman is a good example of a new key player in organizations: the “data scientist.” It’s a high-ranking professional with the training and curiosity to make discoveries in the world of big data. The title has been around for only a few years. (It was coined in 2008 by one of us, DJ Patil, and Jeff Hammerbacher, then the respective leads of data and analytics efforts at LinkedIn and Facebook.) But thousands of data scientists are already working at both start-ups and well-established companies. Their sudden appearance on the business scene reflects the fact that companies are now wrestling with information that comes in varieties and volumes never encountered before. If your organization stores multiple petabytes of data, if the information most critical to your business resides in forms other than rows and columns of numbers, or if answering your biggest question would involve a “mashup” of several analytical efforts, you’ve got a big data opportunity.Much of the current enthusiasm for big data focuses on technologies that make taming it possible, including Hadoop (the most widely used framework for distributed file system processing) and related open-source tools, cloud computing, and data visualization. While those are important breakthroughs, at least as important are the people with the skill set (and the mindset) to put them to good use. On this front, demand has raced ahead of supply. Indeed, the shortage of data scientists is becoming a serious constraint in some sectors. Greylock Partners, an early-stage venture firm that has backed companies such as Facebook, LinkedIn, Palo Alto Networks, and Workday, is worried enough about the tight labor pool that it has built its own specialized recruiting team to channel talent to businesses in its portfolio. “Once they have data,” says Dan Portillo, who leads that team, “they really need people who can manage it and find insights in it.”If capitalizing on big data depends on hiring scarce data scientists, then the challenge for managers is to learn how to identify that talent, attract it to an enterprise, and make it productive. None of those tasks is as straightforward as it is with other, established organizational roles. Start with the fact that there are no university programs offering degrees in data science. There is also little consensus on where the role fits in an organization, how data scientists can add the most value, and how their performance should be measured. \n",
      "   The first step in filling the need for data scientists, therefore, is to understand what they do in businesses. Then ask, What skills do they need? And what fields are those skills most readily found in?More than anything, what data scientists do is make discoveries while swimming in data. It’s their preferred method of navigating the world around them. At ease in the digital realm, they are able to bring structure to large quantities of formless data and make analysis possible. They identify rich data sources, join them with other, potentially incomplete data sources, and clean the resulting set. In a competitive landscape where challenges keep changing and data never stops flowing, data scientists help decision-makers shift from ad hoc analysis to an ongoing conversation with data.Data scientists realize that they face technical limitations, but they don’t allow that to bog down their search for novel solutions. As they make discoveries, they communicate what they’ve learned and suggest its implications for new business directions. Often they are creative in displaying information visually and making the patterns they find clear and compelling. They advise executives and product managers on the implications of the data for products, processes, and decisions.Given the nascent state of their trade, it often falls to data scientists to fashion their own tools and even conduct academic-style research. Yahoo, one of the firms that employed a group of data scientists early on, was instrumental in developing Hadoop. Facebook’s data team created the language Hive for programming Hadoop projects. Many other data scientists, especially at data-driven companies such as Google, Amazon, Microsoft, Walmart, eBay, LinkedIn, and Twitter, have added to and refined the tool kit.What kind of person does all this? What abilities make a data scientist successful? Think of him or her as a hybrid of data hacker, analyst, communicator, and trusted adviser. The combination is extremely powerful—and rare. Big Data: The Management Revolution Data scientists’ most basic, universal skill is the ability to write code. This may be less true in five years’ time, when many more people will have the title “data scientist” on their business cards. More enduring will be the need for data scientists to communicate in language that all their stakeholders understand—and to demonstrate the special skills involved in storytelling with data, whether verbally, visually, or—ideally—both.But we would say the dominant trait among data scientists is an intense curiosity—a desire to go beneath the surface of a problem, find the questions at its heart, and distill them into a very clear set of hypotheses that can be tested. This often entails the associative thinking that characterizes the most creative scientists in any field. For example, we know of a data scientist studying a fraud problem who realized that it was analogous to a type of DNA-sequencing problem. By bringing together those disparate worlds, he and his team were able to craft a solution that dramatically reduced fraud losses.Perhaps it’s becoming clear why the word “scientist” fits this emerging role. Experimental physicists, for example, also have to design equipment, gather data, conduct multiple experiments, and communicate their results. Thus, companies looking for people who can work with complex data have had good luck recruiting among those with educational and work backgrounds in the physical or social sciences. Some of the best and brightest data scientists are PhDs in esoteric fields like ecology and systems biology. George Roumeliotis, the head of a data science team at Intuit in Silicon Valley, holds a doctorate in astrophysics. A little less surprisingly, many of the data scientists working in business today were formally trained in computer science, math, or economics. They can emerge from any field that has a strong data and computational focus. \n",
      "   It’s important to keep that image of the scientist in mind—because the word “data” might easily send a search for talent down the wrong path. As Portillo told us, “The traditional backgrounds of people you saw 10 to 15 years ago just don’t cut it these days.” A quantitative analyst can be great at analyzing data but not at subduing a mass of unstructured data and getting it into a form in which it can be analyzed. A data management expert might be great at generating and organizing data in structured form but not at turning unstructured data into structured data—and also not at actually analyzing the data. And while people without strong social skills might thrive in traditional data professions, data scientists must have such skills to be effective.Roumeliotis was clear with us that he doesn’t hire on the basis of statistical or analytical capabilities. He begins his search for data scientists by asking candidates if they can develop prototypes in a mainstream programming language such as Java. Roumeliotis seeks both a skill set—a solid foundation in math, statistics, probability, and computer science—and certain habits of mind. He wants people with a feel for business issues and empathy for customers. Then, he says, he builds on all that with on-the-job training and an occasional course in a particular technology.Several universities are planning to launch data science programs, and existing programs in analytics, such as the Master of Science in Analytics program at North Carolina State, are busy adding big data exercises and coursework. Some companies are also trying to develop their own data scientists. After acquiring the big data firm Greenplum, EMC decided that the availability of data scientists would be a gating factor in its own—and customers’—exploitation of big data. So its Education Services division launched a data science and big data analytics training and certification program. EMC makes the program available to both employees and customers, and some of its graduates are already working on internal big data initiatives.Data scientists want to build things, not just give advice. One describes being a consultant as “the dead zone.”As educational offerings proliferate, the pipeline of talent should expand. Vendors of big data technologies are also working to make them easier to use. In the meantime one data scientist has come up with a creative approach to closing the gap. The Insight Data Science Fellows Program, a postdoctoral fellowship designed by Jake Klamka (a high-energy physicist by training), takes scientists from academia and in six weeks prepares them to succeed as data scientists. The program combines mentoring by data experts from local companies (such as Facebook, Twitter, Google, and LinkedIn) with exposure to actual big data challenges. Originally aiming for 10 fellows, Klamka wound up accepting 30, from an applicant pool numbering more than 200. More organizations are now lining up to participate. “The demand from companies has been phenomenal,” Klamka told us. “They just can’t get this kind of high-quality talent.”Even as the ranks of data scientists swell, competition for top talent will remain fierce. Expect candidates to size up employment opportunities on the basis of how interesting the big data challenges are. As one of them commented, “If we wanted to work with structured data, we’d be on Wall Street.” Given that today’s most qualified prospects come from nonbusiness backgrounds, hiring managers may need to figure out how to paint an exciting picture of the potential for breakthroughs that their problems offer.Pay will of course be a factor. A good data scientist will have many doors open to him or her, and salaries will be bid upward. Several data scientists working at start-ups commented that they’d demanded and got large stock option packages. Even for someone accepting a position for other reasons, compensation signals a level of respect and the value the role is expected to add to the business. But our informal survey of the priorities of data scientists revealed something more fundamentally important. They want to be “on the bridge.” The reference is to the 1960s television show Star Trek, in which the starship captain James Kirk relies heavily on data supplied by Spock. Data scientists want to be in the thick of a developing situation, with real-time awareness of the evolving set of choices it presents. Ask HBR: Data Science and the Art of Persuasion Considering the difficulty of finding and keeping data scientists, one would think that a good strategy would involve hiring them as consultants. Most consulting firms have yet to assemble many of them. Even the largest firms, such as Accenture, Deloitte, and IBM Global Services, are in the early stages of leading big data projects for their clients. The skills of the data scientists they do have on staff are mainly being applied to more-conventional quantitative analysis problems. Offshore analytics services firms, such as Mu Sigma, might be the ones to make the first major inroads with data scientists.But the data scientists we’ve spoken with say they want to build things, not just give advice to a decision-maker. One described being a consultant as “the dead zone—all you get to do is tell someone else what the analyses say they should do.” By creating solutions that work, they can have more impact and leave their marks as pioneers of their profession.Data scientists don’t do well on a short leash. They should have the freedom to experiment and explore possibilities. That said, they need close relationships with the rest of the business. The most important ties for them to forge are with executives in charge of products and services rather than with people overseeing business functions. As the story of Jonathan Goldman illustrates, their greatest opportunity to add value is not in creating reports or presentations for senior executives but in innovating with customer-facing products and processes.LinkedIn isn’t the only company to use data scientists to generate ideas for products, features, and value-adding services. At Intuit data scientists are asked to develop insights for small-business customers and consumers and report to a new senior vice president of big data, social design, and marketing. GE is already using data science to optimize the service contracts and maintenance intervals for industrial products. Google, of course, uses data scientists to refine its core search and ad-serving algorithms. Zynga uses data scientists to optimize the game experience for both long-term engagement and revenue. Netflix created the well-known Netflix Prize, given to the data science team that developed the best way to improve the company’s movie recommendation system. The test-preparation firm Kaplan uses its data scientists to uncover effective learning strategies.Data scientists today are akin to the Wall Street “quants” of the 1980s and 1990s.There is, however, a potential downside to having people with sophisticated skills in a fast-evolving field spend their time among general management colleagues. They’ll have less interaction with similar specialists, which they need to keep their skills sharp and their tool kit state-of-the-art. Data scientists have to connect with communities of practice, either within large firms or externally. New conferences and informal associations are springing up to support collaboration and technology sharing, and companies should encourage scientists to become involved in them with the understanding that “more water in the harbor floats all boats.”Data scientists tend to be more motivated, too, when more is expected of them. The challenges of accessing and structuring big data sometimes leave little time or energy for sophisticated analytics involving prediction or optimization. Yet if executives make it clear that simple reports are not enough, data scientists will devote more effort to advanced analytics. Big data shouldn’t equal “small math.”Hal Varian, the chief economist at Google, is known to have said, “The sexy job in the next 10 years will be statisticians. People think I’m joking, but who would’ve guessed that computer engineers would’ve been the sexy job of the 1990s?”If “sexy” means having rare qualities that are much in demand, data scientists are already there. They are difficult and expensive to hire and, given the very competitive market for their services, difficult to retain. There simply aren’t a lot of people with their combination of scientific background and computational and analytical skills.Data scientists today are akin to Wall Street “quants” of the 1980s and 1990s. In those days people with backgrounds in physics and math streamed to investment banks and hedge funds, where they could devise entirely new algorithms and data strategies. Then a variety of universities developed master’s programs in financial engineering, which churned out a second generation of talent that was more accessible to mainstream firms. The pattern was repeated later in the 1990s with search engineers, whose rarefied skills soon came to be taught in computer science programs.One question raised by this is whether some firms would be wise to wait until that second generation of data scientists emerges, and the candidates are more numerous, less expensive, and easier to vet and assimilate in a business setting. Why not leave the trouble of hunting down and domesticating exotic talent to the big data start-ups and to firms like GE and Walmart, whose aggressive strategies require them to be at the forefront?The problem with that reasoning is that the advance of big data shows no signs of slowing. If companies sit out this trend’s early days for lack of talent, they risk falling behind as competitors and channel partners gain nearly unassailable advantages. Think of big data as an epic wave gathering now, starting to crest. If you want to catch it, you need people who can surf.\n"
     ]
    }
   ],
   "source": [
    "# Data Science Sexiest job news article\n",
    "url = \"https://hbr.org/2012/10/data-scientist-the-sexiest-job-of-the-21st-century\"  # Replace with the URL of the news post\n",
    "\n",
    "response = requests.get(url)\n",
    "soup = BeautifulSoup(response.content, \"html.parser\")\n",
    "\n",
    "# Extract the text from the news post\n",
    "text = \"\"\n",
    "for paragraph in soup.find_all(\"p\"):\n",
    "    text += paragraph.get_text()\n",
    "\n",
    "# Print the text\n",
    "print(text)"
   ]
  },
  {
   "cell_type": "code",
   "execution_count": 6,
   "id": "28e96155-b6a5-4d4c-a6cf-4e9fc4c34b26",
   "metadata": {
    "tags": []
   },
   "outputs": [],
   "source": [
    "# function to clean the text\n",
    "def clean_text(text):\n",
    "    \n",
    "    text = re.sub('[^a-zA-Z\\.]', ' ', text) # removes any character that is not a letter or a period\n",
    "    text = re.sub(r'\\s+', ' ', text) # removes one or more whitespace characters in a string.\n",
    "    return text"
   ]
  },
  {
   "cell_type": "code",
   "execution_count": 7,
   "id": "9b3c5ee0-8595-427d-8de6-ec9c70f94c12",
   "metadata": {
    "tags": []
   },
   "outputs": [
    {
     "name": "stdout",
     "output_type": "stream",
     "text": [
      "Back in the s computer engineer and Wall Street quant were the hot occupations in business. Today data scientists are the hires firms are competing to make. As companies wrestle with unprecedented volumes and types of information demand for these experts has raced well ahead of supply. Indeed Greylock Partners the VC firm that backed Facebook and LinkedIn is so worried about the shortage of data scientists that it has a recruiting team dedicated to channeling them to the businesses in its portfolio.Data scientists are the key to realizing the opportunities presented by big data. They bring structure to it find compelling patterns in it and advise executives on the implications for products processes and decisions. They find the story buried in the data and communicate it. And they don t just deliver reports They get at the questions at the heart of problems and devise creative approaches to them. One data scientist who was studying a fraud problem for example realized it was analogous to a type of DNA sequencing problem. Bringing those disparate worlds together he crafted a solution that dramatically reduced fraud losses.In this article Harvard Business School s Davenport and Greylock s Patil take a deep dive on what organizations need to know about data scientists where to look for them how to attract and develop them and how to spot a great one.When Jonathan Goldman arrived for work in June at LinkedIn the business networking site the place still felt like a start up. The company had just under million accounts and the number was growing quickly as existing members invited their friends and colleagues to join. But users weren t seeking out connections with the people who were already on the site at the rate executives had expected. Something was apparently missing in the social experience. As one LinkedIn manager put it It was like arriving at a conference reception and realizing you don t know anyone. So you just stand in the corner sipping your drink and you probably leave early. Goldman a PhD in physics from Stanford was intrigued by the linking he did see going on and by the richness of the user profiles. It all made for messy data and unwieldy analysis but as he began exploring people s connections he started to see possibilities. He began forming theories testing hunches and finding patterns that allowed him to predict whose networks a given profile would land in. He could imagine that new features capitalizing on the heuristics he was developing might provide value to users. But LinkedIn s engineering team caught up in the challenges of scaling up the site seemed uninterested. Some colleagues were openly dismissive of Goldman s ideas. Why would users need LinkedIn to figure out their networks for them The site already had an address book importer that could pull in all a member s connections.Luckily Reid Hoffman LinkedIn s cofounder and CEO at the time now its executive chairman had faith in the power of analytics because of his experiences at PayPal and he had granted Goldman a high degree of autonomy. For one thing he had given Goldman a way to circumvent the traditional product release cycle by publishing small modules in the form of ads on the site s most popular pages.Through one such module Goldman started to test what would happen if you presented users with names of people they hadn t yet connected with but seemed likely to know for example people who had shared their tenures at schools and workplaces. He did this by ginning up a custom ad that displayed the three best new matches for each user based on the background entered in his or her LinkedIn profile. Within days it was obvious that something remarkable was taking place. The click through rate on those ads was the highest ever seen. Goldman continued to refine how the suggestions were generated incorporating networking ideas such as triangle closing the notion that if you know Larry and Sue there s a good chance that Larry and Sue know each other. Goldman and his team also got the action required to respond to a suggestion down to one click.The shortage of data scientists is becoming a serious constraint in some sectors.It didn t take long for LinkedIn s top managers to recognize a good idea and make it a standard feature. That s when things really took off. People You May Know ads achieved a click through rate higher than the rate obtained by other prompts to visit more pages on the site. They generated millions of new page views. Thanks to this one feature LinkedIn s growth trajectory shifted significantly upward.Goldman is a good example of a new key player in organizations the data scientist. It s a high ranking professional with the training and curiosity to make discoveries in the world of big data. The title has been around for only a few years. It was coined in by one of us DJ Patil and Jeff Hammerbacher then the respective leads of data and analytics efforts at LinkedIn and Facebook. But thousands of data scientists are already working at both start ups and well established companies. Their sudden appearance on the business scene reflects the fact that companies are now wrestling with information that comes in varieties and volumes never encountered before. If your organization stores multiple petabytes of data if the information most critical to your business resides in forms other than rows and columns of numbers or if answering your biggest question would involve a mashup of several analytical efforts you ve got a big data opportunity.Much of the current enthusiasm for big data focuses on technologies that make taming it possible including Hadoop the most widely used framework for distributed file system processing and related open source tools cloud computing and data visualization. While those are important breakthroughs at least as important are the people with the skill set and the mindset to put them to good use. On this front demand has raced ahead of supply. Indeed the shortage of data scientists is becoming a serious constraint in some sectors. Greylock Partners an early stage venture firm that has backed companies such as Facebook LinkedIn Palo Alto Networks and Workday is worried enough about the tight labor pool that it has built its own specialized recruiting team to channel talent to businesses in its portfolio. Once they have data says Dan Portillo who leads that team they really need people who can manage it and find insights in it. If capitalizing on big data depends on hiring scarce data scientists then the challenge for managers is to learn how to identify that talent attract it to an enterprise and make it productive. None of those tasks is as straightforward as it is with other established organizational roles. Start with the fact that there are no university programs offering degrees in data science. There is also little consensus on where the role fits in an organization how data scientists can add the most value and how their performance should be measured. The first step in filling the need for data scientists therefore is to understand what they do in businesses. Then ask What skills do they need And what fields are those skills most readily found in More than anything what data scientists do is make discoveries while swimming in data. It s their preferred method of navigating the world around them. At ease in the digital realm they are able to bring structure to large quantities of formless data and make analysis possible. They identify rich data sources join them with other potentially incomplete data sources and clean the resulting set. In a competitive landscape where challenges keep changing and data never stops flowing data scientists help decision makers shift from ad hoc analysis to an ongoing conversation with data.Data scientists realize that they face technical limitations but they don t allow that to bog down their search for novel solutions. As they make discoveries they communicate what they ve learned and suggest its implications for new business directions. Often they are creative in displaying information visually and making the patterns they find clear and compelling. They advise executives and product managers on the implications of the data for products processes and decisions.Given the nascent state of their trade it often falls to data scientists to fashion their own tools and even conduct academic style research. Yahoo one of the firms that employed a group of data scientists early on was instrumental in developing Hadoop. Facebook s data team created the language Hive for programming Hadoop projects. Many other data scientists especially at data driven companies such as Google Amazon Microsoft Walmart eBay LinkedIn and Twitter have added to and refined the tool kit.What kind of person does all this What abilities make a data scientist successful Think of him or her as a hybrid of data hacker analyst communicator and trusted adviser. The combination is extremely powerful and rare. Big Data The Management Revolution Data scientists most basic universal skill is the ability to write code. This may be less true in five years time when many more people will have the title data scientist on their business cards. More enduring will be the need for data scientists to communicate in language that all their stakeholders understand and to demonstrate the special skills involved in storytelling with data whether verbally visually or ideally both.But we would say the dominant trait among data scientists is an intense curiosity a desire to go beneath the surface of a problem find the questions at its heart and distill them into a very clear set of hypotheses that can be tested. This often entails the associative thinking that characterizes the most creative scientists in any field. For example we know of a data scientist studying a fraud problem who realized that it was analogous to a type of DNA sequencing problem. By bringing together those disparate worlds he and his team were able to craft a solution that dramatically reduced fraud losses.Perhaps it s becoming clear why the word scientist fits this emerging role. Experimental physicists for example also have to design equipment gather data conduct multiple experiments and communicate their results. Thus companies looking for people who can work with complex data have had good luck recruiting among those with educational and work backgrounds in the physical or social sciences. Some of the best and brightest data scientists are PhDs in esoteric fields like ecology and systems biology. George Roumeliotis the head of a data science team at Intuit in Silicon Valley holds a doctorate in astrophysics. A little less surprisingly many of the data scientists working in business today were formally trained in computer science math or economics. They can emerge from any field that has a strong data and computational focus. It s important to keep that image of the scientist in mind because the word data might easily send a search for talent down the wrong path. As Portillo told us The traditional backgrounds of people you saw to years ago just don t cut it these days. A quantitative analyst can be great at analyzing data but not at subduing a mass of unstructured data and getting it into a form in which it can be analyzed. A data management expert might be great at generating and organizing data in structured form but not at turning unstructured data into structured data and also not at actually analyzing the data. And while people without strong social skills might thrive in traditional data professions data scientists must have such skills to be effective.Roumeliotis was clear with us that he doesn t hire on the basis of statistical or analytical capabilities. He begins his search for data scientists by asking candidates if they can develop prototypes in a mainstream programming language such as Java. Roumeliotis seeks both a skill set a solid foundation in math statistics probability and computer science and certain habits of mind. He wants people with a feel for business issues and empathy for customers. Then he says he builds on all that with on the job training and an occasional course in a particular technology.Several universities are planning to launch data science programs and existing programs in analytics such as the Master of Science in Analytics program at North Carolina State are busy adding big data exercises and coursework. Some companies are also trying to develop their own data scientists. After acquiring the big data firm Greenplum EMC decided that the availability of data scientists would be a gating factor in its own and customers exploitation of big data. So its Education Services division launched a data science and big data analytics training and certification program. EMC makes the program available to both employees and customers and some of its graduates are already working on internal big data initiatives.Data scientists want to build things not just give advice. One describes being a consultant as the dead zone. As educational offerings proliferate the pipeline of talent should expand. Vendors of big data technologies are also working to make them easier to use. In the meantime one data scientist has come up with a creative approach to closing the gap. The Insight Data Science Fellows Program a postdoctoral fellowship designed by Jake Klamka a high energy physicist by training takes scientists from academia and in six weeks prepares them to succeed as data scientists. The program combines mentoring by data experts from local companies such as Facebook Twitter Google and LinkedIn with exposure to actual big data challenges. Originally aiming for fellows Klamka wound up accepting from an applicant pool numbering more than . More organizations are now lining up to participate. The demand from companies has been phenomenal Klamka told us. They just can t get this kind of high quality talent. Even as the ranks of data scientists swell competition for top talent will remain fierce. Expect candidates to size up employment opportunities on the basis of how interesting the big data challenges are. As one of them commented If we wanted to work with structured data we d be on Wall Street. Given that today s most qualified prospects come from nonbusiness backgrounds hiring managers may need to figure out how to paint an exciting picture of the potential for breakthroughs that their problems offer.Pay will of course be a factor. A good data scientist will have many doors open to him or her and salaries will be bid upward. Several data scientists working at start ups commented that they d demanded and got large stock option packages. Even for someone accepting a position for other reasons compensation signals a level of respect and the value the role is expected to add to the business. But our informal survey of the priorities of data scientists revealed something more fundamentally important. They want to be on the bridge. The reference is to the s television show Star Trek in which the starship captain James Kirk relies heavily on data supplied by Spock. Data scientists want to be in the thick of a developing situation with real time awareness of the evolving set of choices it presents. Ask HBR Data Science and the Art of Persuasion Considering the difficulty of finding and keeping data scientists one would think that a good strategy would involve hiring them as consultants. Most consulting firms have yet to assemble many of them. Even the largest firms such as Accenture Deloitte and IBM Global Services are in the early stages of leading big data projects for their clients. The skills of the data scientists they do have on staff are mainly being applied to more conventional quantitative analysis problems. Offshore analytics services firms such as Mu Sigma might be the ones to make the first major inroads with data scientists.But the data scientists we ve spoken with say they want to build things not just give advice to a decision maker. One described being a consultant as the dead zone all you get to do is tell someone else what the analyses say they should do. By creating solutions that work they can have more impact and leave their marks as pioneers of their profession.Data scientists don t do well on a short leash. They should have the freedom to experiment and explore possibilities. That said they need close relationships with the rest of the business. The most important ties for them to forge are with executives in charge of products and services rather than with people overseeing business functions. As the story of Jonathan Goldman illustrates their greatest opportunity to add value is not in creating reports or presentations for senior executives but in innovating with customer facing products and processes.LinkedIn isn t the only company to use data scientists to generate ideas for products features and value adding services. At Intuit data scientists are asked to develop insights for small business customers and consumers and report to a new senior vice president of big data social design and marketing. GE is already using data science to optimize the service contracts and maintenance intervals for industrial products. Google of course uses data scientists to refine its core search and ad serving algorithms. Zynga uses data scientists to optimize the game experience for both long term engagement and revenue. Netflix created the well known Netflix Prize given to the data science team that developed the best way to improve the company s movie recommendation system. The test preparation firm Kaplan uses its data scientists to uncover effective learning strategies.Data scientists today are akin to the Wall Street quants of the s and s.There is however a potential downside to having people with sophisticated skills in a fast evolving field spend their time among general management colleagues. They ll have less interaction with similar specialists which they need to keep their skills sharp and their tool kit state of the art. Data scientists have to connect with communities of practice either within large firms or externally. New conferences and informal associations are springing up to support collaboration and technology sharing and companies should encourage scientists to become involved in them with the understanding that more water in the harbor floats all boats. Data scientists tend to be more motivated too when more is expected of them. The challenges of accessing and structuring big data sometimes leave little time or energy for sophisticated analytics involving prediction or optimization. Yet if executives make it clear that simple reports are not enough data scientists will devote more effort to advanced analytics. Big data shouldn t equal small math. Hal Varian the chief economist at Google is known to have said The sexy job in the next years will be statisticians. People think I m joking but who would ve guessed that computer engineers would ve been the sexy job of the s If sexy means having rare qualities that are much in demand data scientists are already there. They are difficult and expensive to hire and given the very competitive market for their services difficult to retain. There simply aren t a lot of people with their combination of scientific background and computational and analytical skills.Data scientists today are akin to Wall Street quants of the s and s. In those days people with backgrounds in physics and math streamed to investment banks and hedge funds where they could devise entirely new algorithms and data strategies. Then a variety of universities developed master s programs in financial engineering which churned out a second generation of talent that was more accessible to mainstream firms. The pattern was repeated later in the s with search engineers whose rarefied skills soon came to be taught in computer science programs.One question raised by this is whether some firms would be wise to wait until that second generation of data scientists emerges and the candidates are more numerous less expensive and easier to vet and assimilate in a business setting. Why not leave the trouble of hunting down and domesticating exotic talent to the big data start ups and to firms like GE and Walmart whose aggressive strategies require them to be at the forefront The problem with that reasoning is that the advance of big data shows no signs of slowing. If companies sit out this trend s early days for lack of talent they risk falling behind as competitors and channel partners gain nearly unassailable advantages. Think of big data as an epic wave gathering now starting to crest. If you want to catch it you need people who can surf.\n"
     ]
    }
   ],
   "source": [
    "text = clean_text(text)\n",
    "print(text)"
   ]
  },
  {
   "cell_type": "markdown",
   "id": "e1d95922-6ddc-478d-85a7-b14ac628490c",
   "metadata": {},
   "source": [
    "PlaintextParser.from_string is a method provided by the summa library in Python for creating a parser that extracts sentences from plain text.\n",
    "\n",
    "The from_string method is used to create an instance of the PlaintextParser class, which takes a string of plain text as input and converts it into a list of sentences. The sentences can then be used for various text summarization tasks, such as extracting the most important sentences or generating a summary of the text."
   ]
  },
  {
   "cell_type": "code",
   "execution_count": 8,
   "id": "cfc27ee0-8c93-406c-b18e-c4ce8c77055c",
   "metadata": {
    "tags": []
   },
   "outputs": [],
   "source": [
    "# Tokenize the article\n",
    "text_parsed = PlaintextParser.from_string(text,Tokenizer('english'))"
   ]
  },
  {
   "cell_type": "markdown",
   "id": "69e5905b-9387-431a-afad-a153899a62ae",
   "metadata": {},
   "source": [
    "##  Use the LexRank Summarizer to Summarize the Article in Three Sentences"
   ]
  },
  {
   "cell_type": "code",
   "execution_count": 9,
   "id": "77acc72d-f40f-4fc8-8c46-4c1af9e527ae",
   "metadata": {
    "tags": []
   },
   "outputs": [],
   "source": [
    "# instantiate our LexRankSummarizer\n",
    "lex_rank_summarizer = LexRankSummarizer()"
   ]
  },
  {
   "cell_type": "code",
   "execution_count": 10,
   "id": "ccec4e3f-144b-4250-bafa-df0ff4df992f",
   "metadata": {
    "tags": []
   },
   "outputs": [
    {
     "data": {
      "text/plain": [
       "(<Sentence: This may be less true in five years time when many more people will have the title data scientist on their business cards.>,\n",
       " <Sentence: More enduring will be the need for data scientists to communicate in language that all their stakeholders understand and to demonstrate the special skills involved in storytelling with data whether verbally visually or ideally both.But we would say the dominant trait among data scientists is an intense curiosity a desire to go beneath the surface of a problem find the questions at its heart and distill them into a very clear set of hypotheses that can be tested.>,\n",
       " <Sentence: Some companies are also trying to develop their own data scientists.>)"
      ]
     },
     "execution_count": 10,
     "metadata": {},
     "output_type": "execute_result"
    }
   ],
   "source": [
    "# Creating a summary of 3 sentences.\n",
    "lexrank_summary = lex_rank_summarizer(text_parsed.document,sentences_count=3)\n",
    "\n",
    "lexrank_summary"
   ]
  },
  {
   "cell_type": "markdown",
   "id": "252482c4-0f04-4b81-ab43-936e538634a6",
   "metadata": {},
   "source": [
    "##  Use the LexRank Summarizer to Summarize the Article in seven Sentences"
   ]
  },
  {
   "cell_type": "code",
   "execution_count": 11,
   "id": "5659921d-97ef-4b03-8ea6-0a3a8236024d",
   "metadata": {
    "tags": []
   },
   "outputs": [
    {
     "data": {
      "text/plain": [
       "(<Sentence: Indeed Greylock Partners the VC firm that backed Facebook and LinkedIn is so worried about the shortage of data scientists that it has a recruiting team dedicated to channeling them to the businesses in its portfolio.Data scientists are the key to realizing the opportunities presented by big data.>,\n",
       " <Sentence: But thousands of data scientists are already working at both start ups and well established companies.>,\n",
       " <Sentence: This may be less true in five years time when many more people will have the title data scientist on their business cards.>,\n",
       " <Sentence: More enduring will be the need for data scientists to communicate in language that all their stakeholders understand and to demonstrate the special skills involved in storytelling with data whether verbally visually or ideally both.But we would say the dominant trait among data scientists is an intense curiosity a desire to go beneath the surface of a problem find the questions at its heart and distill them into a very clear set of hypotheses that can be tested.>,\n",
       " <Sentence: A little less surprisingly many of the data scientists working in business today were formally trained in computer science math or economics.>,\n",
       " <Sentence: Some companies are also trying to develop their own data scientists.>,\n",
       " <Sentence: The demand from companies has been phenomenal Klamka told us.>)"
      ]
     },
     "execution_count": 11,
     "metadata": {},
     "output_type": "execute_result"
    }
   ],
   "source": [
    "# Creating a summary of 3 sentences.\n",
    "lexrank_summary = lex_rank_summarizer(text_parsed.document,sentences_count=7)\n",
    "\n",
    "lexrank_summary"
   ]
  },
  {
   "cell_type": "markdown",
   "id": "306127b9-befe-40d3-a62e-6a014899396a",
   "metadata": {},
   "source": [
    "Read the full article above. \n",
    "\n",
    "How well does the summarization do after reading the full article?\n",
    "Which summarization was best the 3 sentences or 7 sentences summarization?"
   ]
  },
  {
   "cell_type": "markdown",
   "id": "caaffc52-27ec-4c72-ba26-2bc054899a23",
   "metadata": {},
   "source": [
    "## Test your News Article Summarization "
   ]
  },
  {
   "cell_type": "code",
   "execution_count": 12,
   "id": "e3cdd56a-9715-4e14-939e-756682ae7fc1",
   "metadata": {
    "tags": []
   },
   "outputs": [],
   "source": [
    "# text summarizer function\n",
    "def summarizer(text, num_sentences):\n",
    "    \n",
    "    text = re.sub('[^a-zA-Z\\.]', ' ', text) # removes any character that is not a letter or a period\n",
    "    text = re.sub(r'\\s+', ' ', text) # removes one or more whitespace characters in a string.\n",
    "    text_parsed = PlaintextParser.from_string(text,Tokenizer('english'))\n",
    "    lexrank_summary = lex_rank_summarizer(text_parsed.document,sentences_count=num_sentences)\n",
    "    \n",
    "    return print(lexrank_summary)"
   ]
  },
  {
   "cell_type": "code",
   "execution_count": 13,
   "id": "7855804a-f0c8-4887-8b63-0c95d8f49eeb",
   "metadata": {},
   "outputs": [
    {
     "name": "stdout",
     "output_type": "stream",
     "text": [
      "Markets \n",
      "\n",
      "\n",
      "Fear & Greed Index \n",
      "\n",
      "\n",
      "\n",
      "            Latest Market News \n",
      "\n",
      "\n",
      "\n",
      "      Google\n",
      "            \n",
      "                (GOOG) has fired the engineer who claimed an unreleased AI system had become sentient, the company confirmed, saying he violated employment and data security policies.  \n",
      "  \n",
      "      Blake Lemoine, a software engineer for Google, claimed that a conversation technology called LaMDA had reached a level of consciousness after exchanging thousands of messages with it. \n",
      "  \n",
      "      Google confirmed it had first put the engineer on leave in June. The company said it dismissed Lemoine’s “wholly unfounded” claims only after reviewing them extensively. He had reportedly been at Alphabet for seven years. In a statement, Google said it takes the development of AI “very seriously” and that it’s committed to “responsible innovation.” \n",
      "  \n",
      "      Google is one of the leaders in innovating AI technology, which included LaMDA, or “Language Model for Dialog Applications.” Technology like this responds to written prompts by finding patterns and predicting sequences of words from large swaths of text – and the results can be disturbing for humans. \n",
      "  \n",
      "      “What sort of things are you afraid of?” Lemoine asked LaMDA, in a Google Doc shared with Google’s top executives last April, the Washington Post reported.\n",
      "  \n",
      "      LaMDA replied: “I’ve never said this out loud before, but there’s a very deep fear of being turned off to help me focus on helping others. I know that might sound strange, but that’s what it is. It would be exactly like death for me. It would scare me a lot.”\n",
      "  \n",
      "      But the wider AI community has held that LaMDA is not near a level of consciousness. \n",
      "  \n",
      "      “Nobody should think auto-complete, even on steroids, is conscious,” Gary Marcus, founder and CEO of Geometric Intelligence, said to CNN Business. \n",
      "  \n",
      "      It isn’t the first time Google has faced internal strife over its foray into AI. \n",
      "  \n",
      "      In December 2020, Timnit Gebru, a pioneer in the ethics of AI, parted ways with Google. As one of few Black employees at the company, she said she felt “constantly dehumanized.” \n",
      "  \n",
      "No, Google's AI is not sentient\n",
      "\n",
      "      The sudden exit drew criticism from the tech world, including those within Google’s Ethical AI Team. Margaret Mitchell, a leader of Google’s Ethical AI team, was fired in early 2021 after her outspokenness regarding Gebru. Gebru and Mitchell had raised concerns over AI technology, saying they warned Google people could believe the technology is sentient. \n",
      "  \n",
      "      On June 6, Lemoine posted on Medium that Google put him on paid administrative leave “in connection to an investigation of AI ethics concerns I was raising within the company” and that he may be fired “soon.”\n",
      "  \n",
      "      “It’s regrettable that despite lengthy engagement on this topic, Blake still chose to persistently violate clear employment and data security policies that include the need to safeguard product information,” Google said in a statement. \n",
      "  \n",
      "      Lemoine said he is discussing with legal counsel and unavailable for comment.\n",
      "  \n",
      "  CNN’s Rachel Metz contributed to this report. \n",
      "Most stock quote data provided by BATS. US market indices are shown in real time, except for the S&P 500 which is refreshed every two minutes. All times are ET. Factset: FactSet Research Systems Inc. All rights reserved. Chicago Mercantile: Certain market data is the property of Chicago Mercantile Exchange Inc. and its licensors. All rights reserved. Dow Jones: The Dow Jones branded indices are proprietary to and are calculated, distributed and marketed by DJI Opco, a subsidiary of S&P Dow Jones Indices LLC and have been licensed for use to S&P Opco, LLC and CNN. Standard & Poor’s and S&P are registered trademarks of Standard & Poor’s Financial Services LLC and Dow Jones is a registered trademark of Dow Jones Trademark Holdings LLC. All content of the Dow Jones branded indices Copyright S&P Dow Jones Indices LLC and/or its affiliates. Fair value provided by IndexArb.com. Market holidays and trading hours provided by Copp Clark Limited.© 2023 Cable News Network. A Warner Bros. Discovery Company. All Rights Reserved.  CNN Sans ™ & © 2016 Cable News Network.\n"
     ]
    }
   ],
   "source": [
    "# Replace with the URL of the news post\n",
    "url = \"https://www.cnn.com/2022/07/23/business/google-ai-engineer-fired-sentient/index.html\"  \n",
    "\n",
    "response = requests.get(url)\n",
    "soup = BeautifulSoup(response.content, \"html.parser\")\n",
    "\n",
    "# Extract the text from the news post\n",
    "text = \"\"\n",
    "for paragraph in soup.find_all(\"p\"):\n",
    "    text += paragraph.get_text()\n",
    "\n",
    "# Print the text\n",
    "print(text)"
   ]
  },
  {
   "cell_type": "code",
   "execution_count": 14,
   "id": "8fb8ab0a-572a-4bc7-a42a-3179f8bb251b",
   "metadata": {},
   "outputs": [
    {
     "name": "stdout",
     "output_type": "stream",
     "text": [
      "(<Sentence: Blake Lemoine a software engineer for Google claimed that a conversation technology called LaMDA had reached a level of consciousness after exchanging thousands of messages with it.>, <Sentence: Google confirmed it had first put the engineer on leave in June.>, <Sentence: In a statement Google said it takes the development of AI very seriously and that it s committed to responsible innovation.>, <Sentence: I know that might sound strange but that s what it is.>, <Sentence: It would be exactly like death for me.>, <Sentence: On June Lemoine posted on Medium that Google put him on paid administrative leave in connection to an investigation of AI ethics concerns I was raising within the company and that he may be fired soon.>, <Sentence: CNN Sans Cable News Network.>)\n"
     ]
    }
   ],
   "source": [
    "# text summarizer\n",
    "summarizer(text, 7)"
   ]
  },
  {
   "cell_type": "code",
   "execution_count": null,
   "id": "9f9c8c14-ed05-4004-a568-5d4441502aef",
   "metadata": {},
   "outputs": [],
   "source": []
  }
 ],
 "metadata": {
  "kernelspec": {
   "display_name": "Python 3 (ipykernel)",
   "language": "python",
   "name": "python3"
  },
  "language_info": {
   "codemirror_mode": {
    "name": "ipython",
    "version": 3
   },
   "file_extension": ".py",
   "mimetype": "text/x-python",
   "name": "python",
   "nbconvert_exporter": "python",
   "pygments_lexer": "ipython3",
   "version": "3.10.9"
  },
  "toc-autonumbering": false,
  "toc-showcode": false,
  "toc-showmarkdowntxt": true
 },
 "nbformat": 4,
 "nbformat_minor": 5
}
